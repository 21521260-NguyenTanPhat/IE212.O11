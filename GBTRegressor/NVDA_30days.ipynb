{
 "cells": [
  {
   "cell_type": "code",
   "execution_count": 1,
   "metadata": {},
   "outputs": [],
   "source": [
    "#Khai báo thư viện\n",
    "from pyspark.sql import SparkSession\n",
    "from pyspark.ml.regression import GBTRegressor\n",
    "from pyspark.ml.feature import VectorAssembler\n",
    "from pyspark.ml.evaluation import RegressionEvaluator\n",
    "from pyspark.sql import functions as F\n",
    "from pyspark.sql.window import Window\n",
    "from pyspark.sql.functions import count, when, isnull\n",
    "import matplotlib.pyplot as plt\n",
    "import pandas as pd\n"
   ]
  },
  {
   "cell_type": "code",
   "execution_count": 2,
   "metadata": {},
   "outputs": [],
   "source": [
    "#Đọc file csv được thu thập từ trang https://finance.yahoo.com/\n",
    "spark = SparkSession.builder.getOrCreate()\n",
    "data = spark.read.csv(\"D:/IE212/DACK/Model/NVDA.csv\", header=True, inferSchema=True)"
   ]
  },
  {
   "cell_type": "markdown",
   "metadata": {},
   "source": [
    "## 1. Tập dữ liệu"
   ]
  },
  {
   "cell_type": "code",
   "execution_count": 3,
   "metadata": {},
   "outputs": [
    {
     "name": "stdout",
     "output_type": "stream",
     "text": [
      "+-------------------+-------------------+-------------------+-------------------+-------------------+-------------------+---------+\n",
      "|               Date|               Open|               High|                Low|              Close|          Adj Close|   Volume|\n",
      "+-------------------+-------------------+-------------------+-------------------+-------------------+-------------------+---------+\n",
      "|1999-01-22 00:00:00|             0.4375| 0.4882810115814209|0.38802099227905273| 0.4101560115814209| 0.3762545883655548|271468800|\n",
      "|1999-01-25 00:00:00|0.44270798563957214|0.45833298563957214| 0.4101560115814209|           0.453125|0.41567206382751465| 51048000|\n",
      "|1999-01-26 00:00:00|0.45833298563957214|0.46744799613952637|0.41145798563957214| 0.4179689884185791|0.38342180848121643| 34320000|\n",
      "|1999-01-27 00:00:00|0.41927099227905273| 0.4296880066394806|0.39583298563957214|0.41666701436042786| 0.3822275400161743| 24436800|\n",
      "|1999-01-28 00:00:00|0.41666701436042786|0.41927099227905273| 0.4127599895000458| 0.4153650104999542|0.38103315234184265| 22752000|\n",
      "|1999-01-29 00:00:00| 0.4153650104999542|0.41666701436042786|0.39583298563957214|0.39583298563957214|0.36311542987823486| 24403200|\n",
      "|1999-02-01 00:00:00|0.39583298563957214|            0.40625|0.39583298563957214|0.40364599227905273|0.37028276920318604| 15470400|\n",
      "|1999-02-02 00:00:00|0.39583298563957214|            0.40625|0.36067700386047363|0.37239599227905273| 0.3416156768798828| 26409600|\n",
      "|1999-02-03 00:00:00| 0.3671880066394806|0.38541701436042786|0.36458298563957214|0.38020798563957214|0.34878191351890564|  7512000|\n",
      "|1999-02-04 00:00:00|0.38541701436042786|0.41145798563957214|0.38020798563957214|0.40104201436042786| 0.3678940236568451| 18192000|\n",
      "|1999-02-05 00:00:00|0.40755200386047363|0.41666701436042786| 0.3971349895000458| 0.4127599895000458|0.37864336371421814| 13684800|\n",
      "|1999-02-08 00:00:00| 0.4153650104999542|0.41666701436042786| 0.3984380066394806| 0.3984380066394806| 0.3655052185058594| 15408000|\n",
      "|1999-02-09 00:00:00|            0.40625|0.40885400772094727|0.37760400772094727| 0.3828130066394806|0.35117170214653015|  8697600|\n",
      "|1999-02-10 00:00:00| 0.3828130066394806|0.39322900772094727|0.37239599227905273| 0.3789060115814209| 0.3475876450538635| 14822400|\n",
      "|1999-02-11 00:00:00|0.38020798563957214|0.42708298563957214|0.38020798563957214|0.41145798563957214|  0.377449095249176| 13224000|\n",
      "|1999-02-12 00:00:00|0.41666701436042786|             0.4375|0.41666701436042786|0.43489599227905273|0.39894968271255493| 10972800|\n",
      "|1999-02-16 00:00:00|0.44270798563957214| 0.4609380066394806|0.39322900772094727|             0.4375| 0.4013385474681854| 21100800|\n",
      "|1999-02-17 00:00:00|0.42708298563957214|0.43229201436042786|            0.40625| 0.4140630066394806|  0.379838764667511|  6772800|\n",
      "|1999-02-18 00:00:00|0.42708298563957214|0.43229201436042786|0.40885400772094727|0.42057299613952637|  0.385810524225235|  7070400|\n",
      "|1999-02-19 00:00:00|0.41666701436042786|0.44270798563957214|0.41145798563957214|0.43489599227905273|0.39894968271255493|  7536000|\n",
      "+-------------------+-------------------+-------------------+-------------------+-------------------+-------------------+---------+\n",
      "only showing top 20 rows\n",
      "\n"
     ]
    }
   ],
   "source": [
    "# Chuyển cột \"Date\" thành index\n",
    "data = data.withColumn(\"Date\", data[\"Date\"].cast(\"timestamp\"))  # Chuyển định dạng cột \"Date\" sang timestamp nếu cần\n",
    "data = data.select(\"Date\", \"Open\", \"High\", \"Low\", \"Close\", \"Adj Close\", \"Volume\").orderBy(\"Date\")\n",
    "\n",
    "data.show()"
   ]
  },
  {
   "cell_type": "code",
   "execution_count": 4,
   "metadata": {},
   "outputs": [
    {
     "name": "stdout",
     "output_type": "stream",
     "text": [
      "Số dòng:  6279\n",
      "Số cột:  7\n"
     ]
    }
   ],
   "source": [
    "#Đếm số lượng dòng và cột của dataframe\n",
    "print('Số dòng: ', data.count())\n",
    "print('Số cột: ', len(data.columns))"
   ]
  },
  {
   "cell_type": "code",
   "execution_count": 5,
   "metadata": {},
   "outputs": [
    {
     "name": "stdout",
     "output_type": "stream",
     "text": [
      "Số dòng trùng lặp là: 0\n"
     ]
    }
   ],
   "source": [
    "#Kiểm tra số dòng trùng lặp\n",
    "duplicate_rows_count = data.groupBy(data.columns).count().filter(F.col('count') > 1).count()\n",
    "print(\"Số dòng trùng lặp là:\", duplicate_rows_count)"
   ]
  },
  {
   "cell_type": "code",
   "execution_count": 6,
   "metadata": {},
   "outputs": [
    {
     "name": "stdout",
     "output_type": "stream",
     "text": [
      "+----+----+----+---+-----+---------+------+\n",
      "|Date|Open|High|Low|Close|Adj Close|Volume|\n",
      "+----+----+----+---+-----+---------+------+\n",
      "|   0|   0|   0|  0|    0|        0|     0|\n",
      "+----+----+----+---+-----+---------+------+\n",
      "\n"
     ]
    }
   ],
   "source": [
    "#Kiểm tra giá trị null\n",
    "data.select([count(when(isnull(c), c)).alias(c) for c in data.columns]).show()"
   ]
  },
  {
   "cell_type": "code",
   "execution_count": 7,
   "metadata": {},
   "outputs": [
    {
     "name": "stdout",
     "output_type": "stream",
     "text": [
      "+-------+-------------------+------------------+-------------------+-------------------+-------------------+-------------------+\n",
      "|summary|               Open|              High|                Low|              Close|          Adj Close|             Volume|\n",
      "+-------+-------------------+------------------+-------------------+-------------------+-------------------+-------------------+\n",
      "|  count|               6279|              6279|               6279|               6279|               6279|               6279|\n",
      "|   mean|  42.42126455665261|43.190622208063004| 41.621992766173676|  42.43908588019388|  42.17626443417005|6.094320251632425E7|\n",
      "| stddev|  89.14536251176979| 90.68350524734196|  87.49831298260831|  89.14957133136069|  89.16637028569797|4.359816987143099E7|\n",
      "|    min|0.34895798563957214|0.3554689884185791|0.33333298563957214|0.34114599227905273|0.31294864416122437|            1968000|\n",
      "|    max|  502.1600036621094| 505.4800109863281|  494.1199951171875|  504.0899963378906|  504.0456848144531|          923085600|\n",
      "+-------+-------------------+------------------+-------------------+-------------------+-------------------+-------------------+\n",
      "\n"
     ]
    }
   ],
   "source": [
    "data.describe().show()"
   ]
  },
  {
   "cell_type": "code",
   "execution_count": 8,
   "metadata": {},
   "outputs": [
    {
     "data": {
      "text/html": [
       "<div>\n",
       "<style scoped>\n",
       "    .dataframe tbody tr th:only-of-type {\n",
       "        vertical-align: middle;\n",
       "    }\n",
       "\n",
       "    .dataframe tbody tr th {\n",
       "        vertical-align: top;\n",
       "    }\n",
       "\n",
       "    .dataframe thead th {\n",
       "        text-align: right;\n",
       "    }\n",
       "</style>\n",
       "<table border=\"1\" class=\"dataframe\">\n",
       "  <thead>\n",
       "    <tr style=\"text-align: right;\">\n",
       "      <th></th>\n",
       "      <th>Open</th>\n",
       "      <th>High</th>\n",
       "      <th>Low</th>\n",
       "      <th>Close</th>\n",
       "      <th>Adj Close</th>\n",
       "      <th>Volume</th>\n",
       "    </tr>\n",
       "    <tr>\n",
       "      <th>Date</th>\n",
       "      <th></th>\n",
       "      <th></th>\n",
       "      <th></th>\n",
       "      <th></th>\n",
       "      <th></th>\n",
       "      <th></th>\n",
       "    </tr>\n",
       "  </thead>\n",
       "  <tbody>\n",
       "    <tr>\n",
       "      <th>1999-01-22</th>\n",
       "      <td>0.437500</td>\n",
       "      <td>0.488281</td>\n",
       "      <td>0.388021</td>\n",
       "      <td>0.410156</td>\n",
       "      <td>0.376255</td>\n",
       "      <td>271468800</td>\n",
       "    </tr>\n",
       "    <tr>\n",
       "      <th>1999-01-25</th>\n",
       "      <td>0.442708</td>\n",
       "      <td>0.458333</td>\n",
       "      <td>0.410156</td>\n",
       "      <td>0.453125</td>\n",
       "      <td>0.415672</td>\n",
       "      <td>51048000</td>\n",
       "    </tr>\n",
       "    <tr>\n",
       "      <th>1999-01-26</th>\n",
       "      <td>0.458333</td>\n",
       "      <td>0.467448</td>\n",
       "      <td>0.411458</td>\n",
       "      <td>0.417969</td>\n",
       "      <td>0.383422</td>\n",
       "      <td>34320000</td>\n",
       "    </tr>\n",
       "    <tr>\n",
       "      <th>1999-01-27</th>\n",
       "      <td>0.419271</td>\n",
       "      <td>0.429688</td>\n",
       "      <td>0.395833</td>\n",
       "      <td>0.416667</td>\n",
       "      <td>0.382228</td>\n",
       "      <td>24436800</td>\n",
       "    </tr>\n",
       "    <tr>\n",
       "      <th>1999-01-28</th>\n",
       "      <td>0.416667</td>\n",
       "      <td>0.419271</td>\n",
       "      <td>0.412760</td>\n",
       "      <td>0.415365</td>\n",
       "      <td>0.381033</td>\n",
       "      <td>22752000</td>\n",
       "    </tr>\n",
       "  </tbody>\n",
       "</table>\n",
       "</div>"
      ],
      "text/plain": [
       "                Open      High       Low     Close  Adj Close     Volume\n",
       "Date                                                                    \n",
       "1999-01-22  0.437500  0.488281  0.388021  0.410156   0.376255  271468800\n",
       "1999-01-25  0.442708  0.458333  0.410156  0.453125   0.415672   51048000\n",
       "1999-01-26  0.458333  0.467448  0.411458  0.417969   0.383422   34320000\n",
       "1999-01-27  0.419271  0.429688  0.395833  0.416667   0.382228   24436800\n",
       "1999-01-28  0.416667  0.419271  0.412760  0.415365   0.381033   22752000"
      ]
     },
     "execution_count": 8,
     "metadata": {},
     "output_type": "execute_result"
    }
   ],
   "source": [
    "#Chuyển dữ liệu về pandas để thực hiện vẽ biểu đồ\n",
    "pandas_df =data.toPandas()\n",
    "pandas_df['Date'] = pd.to_datetime(pandas_df['Date'])\n",
    "pandas_df.set_index('Date', inplace=True)\n",
    "pandas_df.sort_index(inplace=True)\n",
    "pandas_df.head()"
   ]
  },
  {
   "cell_type": "code",
   "execution_count": 9,
   "metadata": {},
   "outputs": [
    {
     "data": {
      "text/plain": [
       "<Axes: xlabel='Date'>"
      ]
     },
     "execution_count": 9,
     "metadata": {},
     "output_type": "execute_result"
    },
    {
     "data": {
      "image/png": "[encoded data removed]",
      "text/plain": [
       "<Figure size 640x480 with 1 Axes>"
      ]
     },
     "metadata": {},
     "output_type": "display_data"
    }
   ],
   "source": [
    "pandas_df.plot.line(y=\"Close\", use_index=True)"
   ]
  },
  {
   "cell_type": "code",
   "execution_count": 10,
   "metadata": {},
   "outputs": [
    {
     "data": {
      "text/plain": [
       "<Axes: xlabel='Date'>"
      ]
     },
     "execution_count": 10,
     "metadata": {},
     "output_type": "execute_result"
    },
    {
     "data": {
      "image/png": "[encoded data removed]",
      "text/plain": [
       "<Figure size 640x480 with 1 Axes>"
      ]
     },
     "metadata": {},
     "output_type": "display_data"
    }
   ],
   "source": [
    "pandas_df.plot.line(y=\"Volume\", use_index=True)"
   ]
  },
  {
   "cell_type": "markdown",
   "metadata": {},
   "source": [
    "## 2. Chia dữ liệu để huấn luyện mô hình"
   ]
  },
  {
   "cell_type": "code",
   "execution_count": 11,
   "metadata": {},
   "outputs": [],
   "source": [
    "# Dự đoán 30 ngày sau dựa vào 30 ngày trước.\n",
    "forecast_out =30\n",
    "window_spec = Window().orderBy(\"Date\") \n",
    "data = data.withColumn(\"Close_after_n_days\", F.lead(\"Close\", forecast_out).over(window_spec))"
   ]
  },
  {
   "cell_type": "code",
   "execution_count": 12,
   "metadata": {},
   "outputs": [
    {
     "name": "stdout",
     "output_type": "stream",
     "text": [
      "+-------------------+-------------------+-------------------+-------------------+-------------------+-------------------+---------+-------------------+\n",
      "|               Date|               Open|               High|                Low|              Close|          Adj Close|   Volume| Close_after_n_days|\n",
      "+-------------------+-------------------+-------------------+-------------------+-------------------+-------------------+---------+-------------------+\n",
      "|1999-01-22 00:00:00|             0.4375| 0.4882810115814209|0.38802099227905273| 0.4101560115814209| 0.3762545883655548|271468800| 0.4453130066394806|\n",
      "|1999-01-25 00:00:00|0.44270798563957214|0.45833298563957214| 0.4101560115814209|           0.453125|0.41567206382751465| 51048000| 0.4596349895000458|\n",
      "|1999-01-26 00:00:00|0.45833298563957214|0.46744799613952637|0.41145798563957214| 0.4179689884185791|0.38342180848121643| 34320000|0.45182299613952637|\n",
      "|1999-01-27 00:00:00|0.41927099227905273| 0.4296880066394806|0.39583298563957214|0.41666701436042786| 0.3822275400161743| 24436800|0.43229201436042786|\n",
      "|1999-01-28 00:00:00|0.41666701436042786|0.41927099227905273| 0.4127599895000458| 0.4153650104999542|0.38103315234184265| 22752000|0.42447900772094727|\n",
      "|1999-01-29 00:00:00| 0.4153650104999542|0.41666701436042786|0.39583298563957214|0.39583298563957214|0.36311542987823486| 24403200|0.44270798563957214|\n",
      "|1999-02-01 00:00:00|0.39583298563957214|            0.40625|0.39583298563957214|0.40364599227905273|0.37028276920318604| 15470400| 0.4283849895000458|\n",
      "|1999-02-02 00:00:00|0.39583298563957214|            0.40625|0.36067700386047363|0.37239599227905273| 0.3416156768798828| 26409600| 0.4309900104999542|\n",
      "|1999-02-03 00:00:00| 0.3671880066394806|0.38541701436042786|0.36458298563957214|0.38020798563957214|0.34878191351890564|  7512000|0.43619799613952637|\n",
      "|1999-02-04 00:00:00|0.38541701436042786|0.41145798563957214|0.38020798563957214|0.40104201436042786| 0.3678940236568451| 18192000|             0.4375|\n",
      "|1999-02-05 00:00:00|0.40755200386047363|0.41666701436042786| 0.3971349895000458| 0.4127599895000458|0.37864336371421814| 13684800|0.42447900772094727|\n",
      "|1999-02-08 00:00:00| 0.4153650104999542|0.41666701436042786| 0.3984380066394806| 0.3984380066394806| 0.3655052185058594| 15408000| 0.3984380066394806|\n",
      "|1999-02-09 00:00:00|            0.40625|0.40885400772094727|0.37760400772094727| 0.3828130066394806|0.35117170214653015|  8697600|0.39583298563957214|\n",
      "|1999-02-10 00:00:00| 0.3828130066394806|0.39322900772094727|0.37239599227905273| 0.3789060115814209| 0.3475876450538635| 14822400|0.40104201436042786|\n",
      "|1999-02-11 00:00:00|0.38020798563957214|0.42708298563957214|0.38020798563957214|0.41145798563957214|  0.377449095249176| 13224000|0.43619799613952637|\n",
      "|1999-02-12 00:00:00|0.41666701436042786|             0.4375|0.41666701436042786|0.43489599227905273|0.39894968271255493| 10972800| 0.4492189884185791|\n",
      "|1999-02-16 00:00:00|0.44270798563957214| 0.4609380066394806|0.39322900772094727|             0.4375| 0.4013385474681854| 21100800|0.41145798563957214|\n",
      "|1999-02-17 00:00:00|0.42708298563957214|0.43229201436042786|            0.40625| 0.4140630066394806|  0.379838764667511|  6772800|0.44010400772094727|\n",
      "|1999-02-18 00:00:00|0.42708298563957214|0.43229201436042786|0.40885400772094727|0.42057299613952637|  0.385810524225235|  7070400|0.42708298563957214|\n",
      "|1999-02-19 00:00:00|0.41666701436042786|0.44270798563957214|0.41145798563957214|0.43489599227905273|0.39894968271255493|  7536000| 0.4140630066394806|\n",
      "+-------------------+-------------------+-------------------+-------------------+-------------------+-------------------+---------+-------------------+\n",
      "only showing top 20 rows\n",
      "\n"
     ]
    }
   ],
   "source": [
    "data.show()"
   ]
  },
  {
   "cell_type": "code",
   "execution_count": 13,
   "metadata": {},
   "outputs": [
    {
     "data": {
      "text/html": [
       "<div>\n",
       "<style scoped>\n",
       "    .dataframe tbody tr th:only-of-type {\n",
       "        vertical-align: middle;\n",
       "    }\n",
       "\n",
       "    .dataframe tbody tr th {\n",
       "        vertical-align: top;\n",
       "    }\n",
       "\n",
       "    .dataframe thead th {\n",
       "        text-align: right;\n",
       "    }\n",
       "</style>\n",
       "<table border=\"1\" class=\"dataframe\">\n",
       "  <thead>\n",
       "    <tr style=\"text-align: right;\">\n",
       "      <th></th>\n",
       "      <th>Date</th>\n",
       "      <th>Open</th>\n",
       "      <th>High</th>\n",
       "      <th>Low</th>\n",
       "      <th>Close</th>\n",
       "      <th>Adj Close</th>\n",
       "      <th>Volume</th>\n",
       "      <th>Close_after_n_days</th>\n",
       "    </tr>\n",
       "  </thead>\n",
       "  <tbody>\n",
       "    <tr>\n",
       "      <th>6249</th>\n",
       "      <td>2023-11-21</td>\n",
       "      <td>501.260010</td>\n",
       "      <td>505.170013</td>\n",
       "      <td>492.220001</td>\n",
       "      <td>499.440002</td>\n",
       "      <td>499.396088</td>\n",
       "      <td>56574700</td>\n",
       "      <td>NaN</td>\n",
       "    </tr>\n",
       "    <tr>\n",
       "      <th>6250</th>\n",
       "      <td>2023-11-22</td>\n",
       "      <td>498.519989</td>\n",
       "      <td>503.350006</td>\n",
       "      <td>476.899994</td>\n",
       "      <td>487.160004</td>\n",
       "      <td>487.117188</td>\n",
       "      <td>89942000</td>\n",
       "      <td>NaN</td>\n",
       "    </tr>\n",
       "    <tr>\n",
       "      <th>6251</th>\n",
       "      <td>2023-11-24</td>\n",
       "      <td>484.700012</td>\n",
       "      <td>489.209991</td>\n",
       "      <td>477.450012</td>\n",
       "      <td>477.760010</td>\n",
       "      <td>477.718018</td>\n",
       "      <td>29464500</td>\n",
       "      <td>NaN</td>\n",
       "    </tr>\n",
       "    <tr>\n",
       "      <th>6252</th>\n",
       "      <td>2023-11-27</td>\n",
       "      <td>478.000000</td>\n",
       "      <td>485.299988</td>\n",
       "      <td>476.519989</td>\n",
       "      <td>482.420013</td>\n",
       "      <td>482.377594</td>\n",
       "      <td>39566200</td>\n",
       "      <td>NaN</td>\n",
       "    </tr>\n",
       "    <tr>\n",
       "      <th>6253</th>\n",
       "      <td>2023-11-28</td>\n",
       "      <td>482.359985</td>\n",
       "      <td>483.230011</td>\n",
       "      <td>474.730011</td>\n",
       "      <td>478.209991</td>\n",
       "      <td>478.167938</td>\n",
       "      <td>40149100</td>\n",
       "      <td>NaN</td>\n",
       "    </tr>\n",
       "    <tr>\n",
       "      <th>6254</th>\n",
       "      <td>2023-11-29</td>\n",
       "      <td>483.790009</td>\n",
       "      <td>487.619995</td>\n",
       "      <td>478.600006</td>\n",
       "      <td>481.399994</td>\n",
       "      <td>481.357666</td>\n",
       "      <td>38200500</td>\n",
       "      <td>NaN</td>\n",
       "    </tr>\n",
       "    <tr>\n",
       "      <th>6255</th>\n",
       "      <td>2023-11-30</td>\n",
       "      <td>480.239990</td>\n",
       "      <td>481.100006</td>\n",
       "      <td>464.220001</td>\n",
       "      <td>467.700012</td>\n",
       "      <td>467.658905</td>\n",
       "      <td>52624700</td>\n",
       "      <td>NaN</td>\n",
       "    </tr>\n",
       "    <tr>\n",
       "      <th>6256</th>\n",
       "      <td>2023-12-01</td>\n",
       "      <td>465.250000</td>\n",
       "      <td>472.000000</td>\n",
       "      <td>461.869995</td>\n",
       "      <td>467.649994</td>\n",
       "      <td>467.608887</td>\n",
       "      <td>36880900</td>\n",
       "      <td>NaN</td>\n",
       "    </tr>\n",
       "    <tr>\n",
       "      <th>6257</th>\n",
       "      <td>2023-12-04</td>\n",
       "      <td>460.769989</td>\n",
       "      <td>460.769989</td>\n",
       "      <td>450.100006</td>\n",
       "      <td>455.100006</td>\n",
       "      <td>455.059998</td>\n",
       "      <td>43754300</td>\n",
       "      <td>NaN</td>\n",
       "    </tr>\n",
       "    <tr>\n",
       "      <th>6258</th>\n",
       "      <td>2023-12-05</td>\n",
       "      <td>454.660004</td>\n",
       "      <td>466.000000</td>\n",
       "      <td>452.709991</td>\n",
       "      <td>465.660004</td>\n",
       "      <td>465.660004</td>\n",
       "      <td>37171800</td>\n",
       "      <td>NaN</td>\n",
       "    </tr>\n",
       "    <tr>\n",
       "      <th>6259</th>\n",
       "      <td>2023-12-06</td>\n",
       "      <td>472.149994</td>\n",
       "      <td>473.869995</td>\n",
       "      <td>454.119995</td>\n",
       "      <td>455.029999</td>\n",
       "      <td>455.029999</td>\n",
       "      <td>38059000</td>\n",
       "      <td>NaN</td>\n",
       "    </tr>\n",
       "    <tr>\n",
       "      <th>6260</th>\n",
       "      <td>2023-12-07</td>\n",
       "      <td>457.000000</td>\n",
       "      <td>466.290009</td>\n",
       "      <td>456.040009</td>\n",
       "      <td>465.959991</td>\n",
       "      <td>465.959991</td>\n",
       "      <td>35082300</td>\n",
       "      <td>NaN</td>\n",
       "    </tr>\n",
       "    <tr>\n",
       "      <th>6261</th>\n",
       "      <td>2023-12-08</td>\n",
       "      <td>465.950012</td>\n",
       "      <td>477.410004</td>\n",
       "      <td>465.500000</td>\n",
       "      <td>475.059998</td>\n",
       "      <td>475.059998</td>\n",
       "      <td>35880300</td>\n",
       "      <td>NaN</td>\n",
       "    </tr>\n",
       "    <tr>\n",
       "      <th>6262</th>\n",
       "      <td>2023-12-11</td>\n",
       "      <td>474.910004</td>\n",
       "      <td>475.309998</td>\n",
       "      <td>458.299988</td>\n",
       "      <td>466.269989</td>\n",
       "      <td>466.269989</td>\n",
       "      <td>50972800</td>\n",
       "      <td>NaN</td>\n",
       "    </tr>\n",
       "    <tr>\n",
       "      <th>6263</th>\n",
       "      <td>2023-12-12</td>\n",
       "      <td>460.459991</td>\n",
       "      <td>476.660004</td>\n",
       "      <td>460.459991</td>\n",
       "      <td>476.570007</td>\n",
       "      <td>476.570007</td>\n",
       "      <td>37238700</td>\n",
       "      <td>NaN</td>\n",
       "    </tr>\n",
       "    <tr>\n",
       "      <th>6264</th>\n",
       "      <td>2023-12-13</td>\n",
       "      <td>476.290009</td>\n",
       "      <td>485.940002</td>\n",
       "      <td>476.079987</td>\n",
       "      <td>480.880005</td>\n",
       "      <td>480.880005</td>\n",
       "      <td>44779200</td>\n",
       "      <td>NaN</td>\n",
       "    </tr>\n",
       "    <tr>\n",
       "      <th>6265</th>\n",
       "      <td>2023-12-14</td>\n",
       "      <td>483.899994</td>\n",
       "      <td>486.700012</td>\n",
       "      <td>474.220001</td>\n",
       "      <td>483.500000</td>\n",
       "      <td>483.500000</td>\n",
       "      <td>39123200</td>\n",
       "      <td>NaN</td>\n",
       "    </tr>\n",
       "    <tr>\n",
       "      <th>6266</th>\n",
       "      <td>2023-12-15</td>\n",
       "      <td>481.940002</td>\n",
       "      <td>494.040009</td>\n",
       "      <td>481.200012</td>\n",
       "      <td>488.899994</td>\n",
       "      <td>488.899994</td>\n",
       "      <td>47947800</td>\n",
       "      <td>NaN</td>\n",
       "    </tr>\n",
       "    <tr>\n",
       "      <th>6267</th>\n",
       "      <td>2023-12-18</td>\n",
       "      <td>494.000000</td>\n",
       "      <td>504.329987</td>\n",
       "      <td>491.500000</td>\n",
       "      <td>500.769989</td>\n",
       "      <td>500.769989</td>\n",
       "      <td>41258700</td>\n",
       "      <td>NaN</td>\n",
       "    </tr>\n",
       "    <tr>\n",
       "      <th>6268</th>\n",
       "      <td>2023-12-19</td>\n",
       "      <td>494.239990</td>\n",
       "      <td>497.000000</td>\n",
       "      <td>488.950012</td>\n",
       "      <td>496.040009</td>\n",
       "      <td>496.040009</td>\n",
       "      <td>46444400</td>\n",
       "      <td>NaN</td>\n",
       "    </tr>\n",
       "    <tr>\n",
       "      <th>6269</th>\n",
       "      <td>2023-12-20</td>\n",
       "      <td>496.549988</td>\n",
       "      <td>499.989990</td>\n",
       "      <td>480.980011</td>\n",
       "      <td>481.109985</td>\n",
       "      <td>481.109985</td>\n",
       "      <td>39789400</td>\n",
       "      <td>NaN</td>\n",
       "    </tr>\n",
       "    <tr>\n",
       "      <th>6270</th>\n",
       "      <td>2023-12-21</td>\n",
       "      <td>488.109985</td>\n",
       "      <td>490.950012</td>\n",
       "      <td>484.190002</td>\n",
       "      <td>489.899994</td>\n",
       "      <td>489.899994</td>\n",
       "      <td>30042500</td>\n",
       "      <td>NaN</td>\n",
       "    </tr>\n",
       "    <tr>\n",
       "      <th>6271</th>\n",
       "      <td>2023-12-22</td>\n",
       "      <td>491.950012</td>\n",
       "      <td>493.829987</td>\n",
       "      <td>484.670013</td>\n",
       "      <td>488.299988</td>\n",
       "      <td>488.299988</td>\n",
       "      <td>25213900</td>\n",
       "      <td>NaN</td>\n",
       "    </tr>\n",
       "    <tr>\n",
       "      <th>6272</th>\n",
       "      <td>2023-12-26</td>\n",
       "      <td>489.679993</td>\n",
       "      <td>496.000000</td>\n",
       "      <td>489.600006</td>\n",
       "      <td>492.790009</td>\n",
       "      <td>492.790009</td>\n",
       "      <td>24420000</td>\n",
       "      <td>NaN</td>\n",
       "    </tr>\n",
       "    <tr>\n",
       "      <th>6273</th>\n",
       "      <td>2023-12-27</td>\n",
       "      <td>495.109985</td>\n",
       "      <td>496.799988</td>\n",
       "      <td>490.850006</td>\n",
       "      <td>494.170013</td>\n",
       "      <td>494.170013</td>\n",
       "      <td>23364800</td>\n",
       "      <td>NaN</td>\n",
       "    </tr>\n",
       "    <tr>\n",
       "      <th>6274</th>\n",
       "      <td>2023-12-28</td>\n",
       "      <td>496.429993</td>\n",
       "      <td>498.839996</td>\n",
       "      <td>494.119995</td>\n",
       "      <td>495.220001</td>\n",
       "      <td>495.220001</td>\n",
       "      <td>24658700</td>\n",
       "      <td>NaN</td>\n",
       "    </tr>\n",
       "    <tr>\n",
       "      <th>6275</th>\n",
       "      <td>2023-12-29</td>\n",
       "      <td>498.130005</td>\n",
       "      <td>499.970001</td>\n",
       "      <td>487.510010</td>\n",
       "      <td>495.220001</td>\n",
       "      <td>495.220001</td>\n",
       "      <td>38869000</td>\n",
       "      <td>NaN</td>\n",
       "    </tr>\n",
       "    <tr>\n",
       "      <th>6276</th>\n",
       "      <td>2024-01-02</td>\n",
       "      <td>492.440002</td>\n",
       "      <td>492.950012</td>\n",
       "      <td>475.950012</td>\n",
       "      <td>481.679993</td>\n",
       "      <td>481.679993</td>\n",
       "      <td>41125400</td>\n",
       "      <td>NaN</td>\n",
       "    </tr>\n",
       "    <tr>\n",
       "      <th>6277</th>\n",
       "      <td>2024-01-03</td>\n",
       "      <td>474.850006</td>\n",
       "      <td>481.839996</td>\n",
       "      <td>473.200012</td>\n",
       "      <td>475.690002</td>\n",
       "      <td>475.690002</td>\n",
       "      <td>32089600</td>\n",
       "      <td>NaN</td>\n",
       "    </tr>\n",
       "    <tr>\n",
       "      <th>6278</th>\n",
       "      <td>2024-01-04</td>\n",
       "      <td>477.670013</td>\n",
       "      <td>485.000000</td>\n",
       "      <td>475.079987</td>\n",
       "      <td>479.980011</td>\n",
       "      <td>479.980011</td>\n",
       "      <td>30653500</td>\n",
       "      <td>NaN</td>\n",
       "    </tr>\n",
       "  </tbody>\n",
       "</table>\n",
       "</div>"
      ],
      "text/plain": [
       "           Date        Open        High         Low       Close   Adj Close  \\\n",
       "6249 2023-11-21  501.260010  505.170013  492.220001  499.440002  499.396088   \n",
       "6250 2023-11-22  498.519989  503.350006  476.899994  487.160004  487.117188   \n",
       "6251 2023-11-24  484.700012  489.209991  477.450012  477.760010  477.718018   \n",
       "6252 2023-11-27  478.000000  485.299988  476.519989  482.420013  482.377594   \n",
       "6253 2023-11-28  482.359985  483.230011  474.730011  478.209991  478.167938   \n",
       "6254 2023-11-29  483.790009  487.619995  478.600006  481.399994  481.357666   \n",
       "6255 2023-11-30  480.239990  481.100006  464.220001  467.700012  467.658905   \n",
       "6256 2023-12-01  465.250000  472.000000  461.869995  467.649994  467.608887   \n",
       "6257 2023-12-04  460.769989  460.769989  450.100006  455.100006  455.059998   \n",
       "6258 2023-12-05  454.660004  466.000000  452.709991  465.660004  465.660004   \n",
       "6259 2023-12-06  472.149994  473.869995  454.119995  455.029999  455.029999   \n",
       "6260 2023-12-07  457.000000  466.290009  456.040009  465.959991  465.959991   \n",
       "6261 2023-12-08  465.950012  477.410004  465.500000  475.059998  475.059998   \n",
       "6262 2023-12-11  474.910004  475.309998  458.299988  466.269989  466.269989   \n",
       "6263 2023-12-12  460.459991  476.660004  460.459991  476.570007  476.570007   \n",
       "6264 2023-12-13  476.290009  485.940002  476.079987  480.880005  480.880005   \n",
       "6265 2023-12-14  483.899994  486.700012  474.220001  483.500000  483.500000   \n",
       "6266 2023-12-15  481.940002  494.040009  481.200012  488.899994  488.899994   \n",
       "6267 2023-12-18  494.000000  504.329987  491.500000  500.769989  500.769989   \n",
       "6268 2023-12-19  494.239990  497.000000  488.950012  496.040009  496.040009   \n",
       "6269 2023-12-20  496.549988  499.989990  480.980011  481.109985  481.109985   \n",
       "6270 2023-12-21  488.109985  490.950012  484.190002  489.899994  489.899994   \n",
       "6271 2023-12-22  491.950012  493.829987  484.670013  488.299988  488.299988   \n",
       "6272 2023-12-26  489.679993  496.000000  489.600006  492.790009  492.790009   \n",
       "6273 2023-12-27  495.109985  496.799988  490.850006  494.170013  494.170013   \n",
       "6274 2023-12-28  496.429993  498.839996  494.119995  495.220001  495.220001   \n",
       "6275 2023-12-29  498.130005  499.970001  487.510010  495.220001  495.220001   \n",
       "6276 2024-01-02  492.440002  492.950012  475.950012  481.679993  481.679993   \n",
       "6277 2024-01-03  474.850006  481.839996  473.200012  475.690002  475.690002   \n",
       "6278 2024-01-04  477.670013  485.000000  475.079987  479.980011  479.980011   \n",
       "\n",
       "        Volume  Close_after_n_days  \n",
       "6249  56574700                 NaN  \n",
       "6250  89942000                 NaN  \n",
       "6251  29464500                 NaN  \n",
       "6252  39566200                 NaN  \n",
       "6253  40149100                 NaN  \n",
       "6254  38200500                 NaN  \n",
       "6255  52624700                 NaN  \n",
       "6256  36880900                 NaN  \n",
       "6257  43754300                 NaN  \n",
       "6258  37171800                 NaN  \n",
       "6259  38059000                 NaN  \n",
       "6260  35082300                 NaN  \n",
       "6261  35880300                 NaN  \n",
       "6262  50972800                 NaN  \n",
       "6263  37238700                 NaN  \n",
       "6264  44779200                 NaN  \n",
       "6265  39123200                 NaN  \n",
       "6266  47947800                 NaN  \n",
       "6267  41258700                 NaN  \n",
       "6268  46444400                 NaN  \n",
       "6269  39789400                 NaN  \n",
       "6270  30042500                 NaN  \n",
       "6271  25213900                 NaN  \n",
       "6272  24420000                 NaN  \n",
       "6273  23364800                 NaN  \n",
       "6274  24658700                 NaN  \n",
       "6275  38869000                 NaN  \n",
       "6276  41125400                 NaN  \n",
       "6277  32089600                 NaN  \n",
       "6278  30653500                 NaN  "
      ]
     },
     "execution_count": 13,
     "metadata": {},
     "output_type": "execute_result"
    }
   ],
   "source": [
    "df = data.toPandas()\n",
    "df.tail(30)"
   ]
  },
  {
   "cell_type": "code",
   "execution_count": 14,
   "metadata": {},
   "outputs": [
    {
     "name": "stdout",
     "output_type": "stream",
     "text": [
      "+-------------------+-------------------+\n",
      "|              Close| Close_after_n_days|\n",
      "+-------------------+-------------------+\n",
      "| 0.4101560115814209| 0.4453130066394806|\n",
      "|           0.453125| 0.4596349895000458|\n",
      "| 0.4179689884185791|0.45182299613952637|\n",
      "|0.41666701436042786|0.43229201436042786|\n",
      "| 0.4153650104999542|0.42447900772094727|\n",
      "|0.39583298563957214|0.44270798563957214|\n",
      "|0.40364599227905273| 0.4283849895000458|\n",
      "|0.37239599227905273| 0.4309900104999542|\n",
      "|0.38020798563957214|0.43619799613952637|\n",
      "|0.40104201436042786|             0.4375|\n",
      "| 0.4127599895000458|0.42447900772094727|\n",
      "| 0.3984380066394806| 0.3984380066394806|\n",
      "| 0.3828130066394806|0.39583298563957214|\n",
      "| 0.3789060115814209|0.40104201436042786|\n",
      "|0.41145798563957214|0.43619799613952637|\n",
      "|0.43489599227905273| 0.4492189884185791|\n",
      "|             0.4375|0.41145798563957214|\n",
      "| 0.4140630066394806|0.44010400772094727|\n",
      "|0.42057299613952637|0.42708298563957214|\n",
      "|0.43489599227905273| 0.4140630066394806|\n",
      "|             0.4375|0.40364599227905273|\n",
      "|0.45833298563957214|             0.4375|\n",
      "|0.49479201436042786| 0.4453130066394806|\n",
      "|0.47916701436042786|             0.4375|\n",
      "| 0.4570310115814209|0.41927099227905273|\n",
      "| 0.4596349895000458| 0.4023439884185791|\n",
      "|0.45572900772094727|           0.390625|\n",
      "|0.42447900772094727|0.40104201436042786|\n",
      "| 0.4153650104999542| 0.4140630066394806|\n",
      "|0.43880200386047363|0.39583298563957214|\n",
      "+-------------------+-------------------+\n",
      "only showing top 30 rows\n",
      "\n"
     ]
    }
   ],
   "source": [
    "# New DataFrame with only relevant data\n",
    "df_new = data.select(\"Close\", \"Close_after_n_days\")\n",
    "\n",
    "# Show the resulting DataFrame\n",
    "df_new.show(30)"
   ]
  },
  {
   "cell_type": "code",
   "execution_count": 15,
   "metadata": {},
   "outputs": [
    {
     "name": "stdout",
     "output_type": "stream",
     "text": [
      "+--------------------+------------------+\n",
      "|features            |Close_after_n_days|\n",
      "+--------------------+------------------+\n",
      "|[499.44000244140625]|NULL              |\n",
      "|[487.1600036621094] |NULL              |\n",
      "|[477.760009765625]  |NULL              |\n",
      "|[482.4200134277344] |NULL              |\n",
      "|[478.2099914550781] |NULL              |\n",
      "|[481.3999938964844] |NULL              |\n",
      "|[467.70001220703125]|NULL              |\n",
      "|[467.6499938964844] |NULL              |\n",
      "|[455.1000061035156] |NULL              |\n",
      "|[465.6600036621094] |NULL              |\n",
      "|[455.0299987792969] |NULL              |\n",
      "|[465.9599914550781] |NULL              |\n",
      "|[475.05999755859375]|NULL              |\n",
      "|[466.2699890136719] |NULL              |\n",
      "|[476.57000732421875]|NULL              |\n",
      "|[480.8800048828125] |NULL              |\n",
      "|[483.5]             |NULL              |\n",
      "|[488.8999938964844] |NULL              |\n",
      "|[500.7699890136719] |NULL              |\n",
      "|[496.0400085449219] |NULL              |\n",
      "+--------------------+------------------+\n",
      "only showing top 20 rows\n",
      "\n"
     ]
    }
   ],
   "source": [
    "# Select rows where 'Close_after_n_days' is NaN\n",
    "df_forecast = df_new.filter(isnull(\"Close_after_n_days\"))\n",
    "feature_col = [\"Close\"]\n",
    "# Vector Assembler to combine feature columns into a single vector column\n",
    "assembler = VectorAssembler(inputCols=feature_col, outputCol=\"features\")\n",
    "df_assembled_forecast = assembler.transform(df_forecast).select(\"features\", \"Close_after_n_days\")\n",
    "# Show the resulting DataFrame\n",
    "df_assembled_forecast.show(truncate=False)"
   ]
  },
  {
   "cell_type": "code",
   "execution_count": 16,
   "metadata": {},
   "outputs": [],
   "source": [
    "# All columns of known data except labels, discard last 35 rows\n",
    "y_col = \"Close_after_n_days\"\n",
    "feature_cols = [col for col in df_new.columns if col != y_col]\n",
    "df_features = df_new.select(*feature_cols, \"Close_after_n_days\").limit(df_new.count() - forecast_out)\n",
    "\n",
    "# Vector Assembler to combine feature columns into a single vector column\n",
    "assembler = VectorAssembler(inputCols=feature_cols, outputCol=\"features\")\n",
    "df_assembled = assembler.transform(df_features).select(\"features\", \"Close_after_n_days\")"
   ]
  },
  {
   "cell_type": "code",
   "execution_count": 17,
   "metadata": {},
   "outputs": [
    {
     "data": {
      "text/html": [
       "<div>\n",
       "<style scoped>\n",
       "    .dataframe tbody tr th:only-of-type {\n",
       "        vertical-align: middle;\n",
       "    }\n",
       "\n",
       "    .dataframe tbody tr th {\n",
       "        vertical-align: top;\n",
       "    }\n",
       "\n",
       "    .dataframe thead th {\n",
       "        text-align: right;\n",
       "    }\n",
       "</style>\n",
       "<table border=\"1\" class=\"dataframe\">\n",
       "  <thead>\n",
       "    <tr style=\"text-align: right;\">\n",
       "      <th></th>\n",
       "      <th>Close</th>\n",
       "      <th>Close_after_n_days</th>\n",
       "    </tr>\n",
       "  </thead>\n",
       "  <tbody>\n",
       "    <tr>\n",
       "      <th>6239</th>\n",
       "      <td>459.549988</td>\n",
       "      <td>481.109985</td>\n",
       "    </tr>\n",
       "    <tr>\n",
       "      <th>6240</th>\n",
       "      <td>465.739990</td>\n",
       "      <td>489.899994</td>\n",
       "    </tr>\n",
       "    <tr>\n",
       "      <th>6241</th>\n",
       "      <td>469.500000</td>\n",
       "      <td>488.299988</td>\n",
       "    </tr>\n",
       "    <tr>\n",
       "      <th>6242</th>\n",
       "      <td>483.350006</td>\n",
       "      <td>492.790009</td>\n",
       "    </tr>\n",
       "    <tr>\n",
       "      <th>6243</th>\n",
       "      <td>486.200012</td>\n",
       "      <td>494.170013</td>\n",
       "    </tr>\n",
       "    <tr>\n",
       "      <th>6244</th>\n",
       "      <td>496.559998</td>\n",
       "      <td>495.220001</td>\n",
       "    </tr>\n",
       "    <tr>\n",
       "      <th>6245</th>\n",
       "      <td>488.880005</td>\n",
       "      <td>495.220001</td>\n",
       "    </tr>\n",
       "    <tr>\n",
       "      <th>6246</th>\n",
       "      <td>494.799988</td>\n",
       "      <td>481.679993</td>\n",
       "    </tr>\n",
       "    <tr>\n",
       "      <th>6247</th>\n",
       "      <td>492.980011</td>\n",
       "      <td>475.690002</td>\n",
       "    </tr>\n",
       "    <tr>\n",
       "      <th>6248</th>\n",
       "      <td>504.089996</td>\n",
       "      <td>479.980011</td>\n",
       "    </tr>\n",
       "  </tbody>\n",
       "</table>\n",
       "</div>"
      ],
      "text/plain": [
       "           Close  Close_after_n_days\n",
       "6239  459.549988          481.109985\n",
       "6240  465.739990          489.899994\n",
       "6241  469.500000          488.299988\n",
       "6242  483.350006          492.790009\n",
       "6243  486.200012          494.170013\n",
       "6244  496.559998          495.220001\n",
       "6245  488.880005          495.220001\n",
       "6246  494.799988          481.679993\n",
       "6247  492.980011          475.690002\n",
       "6248  504.089996          479.980011"
      ]
     },
     "execution_count": 17,
     "metadata": {},
     "output_type": "execute_result"
    }
   ],
   "source": [
    "df_features.toPandas().tail(10)"
   ]
  },
  {
   "cell_type": "code",
   "execution_count": 18,
   "metadata": {},
   "outputs": [
    {
     "name": "stdout",
     "output_type": "stream",
     "text": [
      "+---------------------+-------------------+\n",
      "|features             |Close_after_n_days |\n",
      "+---------------------+-------------------+\n",
      "|[0.4101560115814209] |0.4453130066394806 |\n",
      "|[0.453125]           |0.4596349895000458 |\n",
      "|[0.4179689884185791] |0.45182299613952637|\n",
      "|[0.41666701436042786]|0.43229201436042786|\n",
      "|[0.4153650104999542] |0.42447900772094727|\n",
      "|[0.39583298563957214]|0.44270798563957214|\n",
      "|[0.40364599227905273]|0.4283849895000458 |\n",
      "|[0.37239599227905273]|0.4309900104999542 |\n",
      "|[0.38020798563957214]|0.43619799613952637|\n",
      "|[0.40104201436042786]|0.4375             |\n",
      "|[0.4127599895000458] |0.42447900772094727|\n",
      "|[0.3984380066394806] |0.3984380066394806 |\n",
      "|[0.3828130066394806] |0.39583298563957214|\n",
      "|[0.3789060115814209] |0.40104201436042786|\n",
      "|[0.41145798563957214]|0.43619799613952637|\n",
      "|[0.43489599227905273]|0.4492189884185791 |\n",
      "|[0.4375]             |0.41145798563957214|\n",
      "|[0.4140630066394806] |0.44010400772094727|\n",
      "|[0.42057299613952637]|0.42708298563957214|\n",
      "|[0.43489599227905273]|0.4140630066394806 |\n",
      "+---------------------+-------------------+\n",
      "only showing top 20 rows\n",
      "\n"
     ]
    }
   ],
   "source": [
    "df_assembled.show(truncate=False)"
   ]
  },
  {
   "cell_type": "code",
   "execution_count": 19,
   "metadata": {},
   "outputs": [],
   "source": [
    "# Here, we're using a time-based split - 80% for training and 20% for testing\n",
    "train_count = int(df_assembled.count() * 0.8)\n",
    "df_train = df_assembled.limit(train_count)\n",
    "df_test = df_assembled.subtract(df_train)"
   ]
  },
  {
   "cell_type": "code",
   "execution_count": 20,
   "metadata": {},
   "outputs": [
    {
     "name": "stdout",
     "output_type": "stream",
     "text": [
      "+--------------------+-------------------+\n",
      "|            features| Close_after_n_days|\n",
      "+--------------------+-------------------+\n",
      "|[0.4101560115814209]| 0.4453130066394806|\n",
      "|          [0.453125]| 0.4596349895000458|\n",
      "|[0.4179689884185791]|0.45182299613952637|\n",
      "|[0.41666701436042...|0.43229201436042786|\n",
      "|[0.4153650104999542]|0.42447900772094727|\n",
      "|[0.39583298563957...|0.44270798563957214|\n",
      "|[0.40364599227905...| 0.4283849895000458|\n",
      "|[0.37239599227905...| 0.4309900104999542|\n",
      "|[0.38020798563957...|0.43619799613952637|\n",
      "|[0.40104201436042...|             0.4375|\n",
      "|[0.4127599895000458]|0.42447900772094727|\n",
      "|[0.3984380066394806]| 0.3984380066394806|\n",
      "|[0.3828130066394806]|0.39583298563957214|\n",
      "|[0.3789060115814209]|0.40104201436042786|\n",
      "|[0.41145798563957...|0.43619799613952637|\n",
      "|[0.43489599227905...| 0.4492189884185791|\n",
      "|            [0.4375]|0.41145798563957214|\n",
      "|[0.4140630066394806]|0.44010400772094727|\n",
      "|[0.42057299613952...|0.42708298563957214|\n",
      "|[0.43489599227905...| 0.4140630066394806|\n",
      "+--------------------+-------------------+\n",
      "only showing top 20 rows\n",
      "\n"
     ]
    }
   ],
   "source": [
    "df_train.show()"
   ]
  },
  {
   "cell_type": "code",
   "execution_count": 21,
   "metadata": {},
   "outputs": [
    {
     "name": "stdout",
     "output_type": "stream",
     "text": [
      "+--------------------+------------------+\n",
      "|            features|Close_after_n_days|\n",
      "+--------------------+------------------+\n",
      "|  [42.5099983215332]| 37.93000030517578|\n",
      "| [39.27750015258789]| 39.23249816894531|\n",
      "|  [39.5724983215332]|37.192501068115234|\n",
      "| [36.90250015258789]|  37.3224983215332|\n",
      "| [37.96500015258789]|39.459999084472656|\n",
      "| [37.04750061035156]|40.037498474121094|\n",
      "|[37.224998474121094]|34.502498626708984|\n",
      "| [37.22249984741211]|32.900001525878906|\n",
      "| [36.61249923706055]| 34.34749984741211|\n",
      "| [35.89500045776367]|           35.9375|\n",
      "| [36.73500061035156]|36.182498931884766|\n",
      "|[34.627498626708984]| 37.29499816894531|\n",
      "|[33.775001525878906]| 37.48749923706055|\n",
      "| [32.39250183105469]|             38.25|\n",
      "|[31.770000457763672]| 36.85499954223633|\n",
      "|[33.275001525878906]| 37.04249954223633|\n",
      "| [32.79249954223633]| 36.61249923706055|\n",
      "|[33.412498474121094]| 37.79249954223633|\n",
      "|            [33.375]|38.220001220703125|\n",
      "| [34.05500030517578]| 38.63249969482422|\n",
      "+--------------------+------------------+\n",
      "only showing top 20 rows\n",
      "\n"
     ]
    }
   ],
   "source": [
    "df_test.show()"
   ]
  },
  {
   "cell_type": "markdown",
   "metadata": {},
   "source": [
    "## 3. Xây dựng mô hình GBT"
   ]
  },
  {
   "cell_type": "code",
   "execution_count": 22,
   "metadata": {},
   "outputs": [],
   "source": [
    "GBT = GBTRegressor (featuresCol=\"features\", labelCol=\"Close_after_n_days\")"
   ]
  },
  {
   "cell_type": "code",
   "execution_count": 23,
   "metadata": {},
   "outputs": [],
   "source": [
    "model = GBT.fit(df_train)"
   ]
  },
  {
   "cell_type": "markdown",
   "metadata": {},
   "source": [
    "### 3.1 Kiểm tra tập test"
   ]
  },
  {
   "cell_type": "code",
   "execution_count": 24,
   "metadata": {},
   "outputs": [],
   "source": [
    "predic_test = model.transform(df_test)"
   ]
  },
  {
   "cell_type": "code",
   "execution_count": 25,
   "metadata": {},
   "outputs": [
    {
     "name": "stdout",
     "output_type": "stream",
     "text": [
      "+--------------------+------------------+-----------------+\n",
      "|            features|Close_after_n_days|       prediction|\n",
      "+--------------------+------------------+-----------------+\n",
      "|  [42.5099983215332]| 37.93000030517578|52.87481414748364|\n",
      "| [39.27750015258789]| 39.23249816894531|35.30591274188127|\n",
      "|  [39.5724983215332]|37.192501068115234|35.30591274188127|\n",
      "| [36.90250015258789]|  37.3224983215332|35.30591274188127|\n",
      "| [37.96500015258789]|39.459999084472656|35.30591274188127|\n",
      "| [37.04750061035156]|40.037498474121094|35.30591274188127|\n",
      "|[37.224998474121094]|34.502498626708984|35.30591274188127|\n",
      "| [37.22249984741211]|32.900001525878906|35.30591274188127|\n",
      "| [36.61249923706055]| 34.34749984741211|35.30591274188127|\n",
      "| [35.89500045776367]|           35.9375|35.30591274188127|\n",
      "| [36.73500061035156]|36.182498931884766|35.30591274188127|\n",
      "|[34.627498626708984]| 37.29499816894531|35.30591274188127|\n",
      "|[33.775001525878906]| 37.48749923706055|35.30591274188127|\n",
      "| [32.39250183105469]|             38.25|35.30591274188127|\n",
      "|[31.770000457763672]| 36.85499954223633|35.30591274188127|\n",
      "|[33.275001525878906]| 37.04249954223633|35.30591274188127|\n",
      "| [32.79249954223633]| 36.61249923706055|35.30591274188127|\n",
      "|[33.412498474121094]| 37.79249954223633|35.30591274188127|\n",
      "|            [33.375]|38.220001220703125|35.30591274188127|\n",
      "| [34.05500030517578]| 38.63249969482422|35.30591274188127|\n",
      "+--------------------+------------------+-----------------+\n",
      "only showing top 20 rows\n",
      "\n",
      "None\n"
     ]
    }
   ],
   "source": [
    "print(predic_test.show())"
   ]
  },
  {
   "cell_type": "code",
   "execution_count": 26,
   "metadata": {},
   "outputs": [
    {
     "name": "stdout",
     "output_type": "stream",
     "text": [
      "Root Mean Squared Error (RMSE) on test data = 173.01523114983084\n",
      "R2 on test data = -0.9104558395169815\n"
     ]
    }
   ],
   "source": [
    "evaluator_rmse = RegressionEvaluator(labelCol=\"Close_after_n_days\", predictionCol=\"prediction\", metricName=\"rmse\")\n",
    "rmse_test = evaluator_rmse.evaluate(predic_test)\n",
    "print(\"Root Mean Squared Error (RMSE) on test data =\", rmse_test)\n",
    "\n",
    "evaluator_rmse = RegressionEvaluator(labelCol=\"Close_after_n_days\", predictionCol=\"prediction\", metricName=\"r2\")\n",
    "r2_test = evaluator_rmse.evaluate(predic_test)\n",
    "print(\"R2 on test data =\", r2_test)"
   ]
  },
  {
   "cell_type": "code",
   "execution_count": 27,
   "metadata": {},
   "outputs": [
    {
     "name": "stdout",
     "output_type": "stream",
     "text": [
      "Mean Absolute Percentage Error (MAPE) on test data = 53.66508396673951\n"
     ]
    }
   ],
   "source": [
    "from pyspark.sql.functions import abs\n",
    "\n",
    "def calculate_mape(df, labelCol, predictionCol):\n",
    "    df = df.withColumn(\"absolute_error\", abs(df[labelCol] - df[predictionCol]))\n",
    "    df = df.withColumn(\"percentage_error\", df[\"absolute_error\"] / df[labelCol] * 100)\n",
    "    mape = df.select(\"percentage_error\").agg({\"percentage_error\": \"avg\"}).collect()[0][0]\n",
    "    return mape\n",
    "\n",
    "mape_test = calculate_mape(predic_test, \"Close_after_n_days\", \"prediction\")\n",
    "print(\"Mean Absolute Percentage Error (MAPE) on test data =\", mape_test)"
   ]
  },
  {
   "cell_type": "code",
   "execution_count": 28,
   "metadata": {},
   "outputs": [
    {
     "data": {
      "image/png": "[encoded data removed]",
      "text/plain": [
       "<Figure size 1200x600 with 1 Axes>"
      ]
     },
     "metadata": {},
     "output_type": "display_data"
    }
   ],
   "source": [
    "# Visualization\n",
    "# Plot the actual vs predicted values for adjusted closing prices\n",
    "preds = predic_test.select(\"Close_after_n_days\", \"prediction\").toPandas()\n",
    "plt.figure(figsize=(12, 6))\n",
    "plt.plot(preds[\"Close_after_n_days\"], label='Actual', color='blue')\n",
    "plt.plot(preds[\"prediction\"], label='Predicted', color='red', alpha=0.6)\n",
    "plt.title('Actual vs Predicted Adjusted Closing Prices on test data')\n",
    "plt.xlabel('Days')\n",
    "plt.ylabel('Closing Price')\n",
    "plt.legend()\n",
    "plt.show()"
   ]
  },
  {
   "cell_type": "markdown",
   "metadata": {},
   "source": [
    "### 3.2 Kiểm tra tập train"
   ]
  },
  {
   "cell_type": "code",
   "execution_count": 29,
   "metadata": {},
   "outputs": [],
   "source": [
    "predic_train = model.transform(df_train)"
   ]
  },
  {
   "cell_type": "code",
   "execution_count": 30,
   "metadata": {},
   "outputs": [
    {
     "name": "stdout",
     "output_type": "stream",
     "text": [
      "+--------------------+-------------------+------------------+\n",
      "|            features| Close_after_n_days|        prediction|\n",
      "+--------------------+-------------------+------------------+\n",
      "|[0.4101560115814209]| 0.4453130066394806|0.4927382275280333|\n",
      "|          [0.453125]| 0.4596349895000458|0.4927382275280333|\n",
      "|[0.4179689884185791]|0.45182299613952637|0.4927382275280333|\n",
      "|[0.41666701436042...|0.43229201436042786|0.4927382275280333|\n",
      "|[0.4153650104999542]|0.42447900772094727|0.4927382275280333|\n",
      "|[0.39583298563957...|0.44270798563957214|0.4927382275280333|\n",
      "|[0.40364599227905...| 0.4283849895000458|0.4927382275280333|\n",
      "|[0.37239599227905...| 0.4309900104999542|0.4927382275280333|\n",
      "|[0.38020798563957...|0.43619799613952637|0.4927382275280333|\n",
      "|[0.40104201436042...|             0.4375|0.4927382275280333|\n",
      "|[0.4127599895000458]|0.42447900772094727|0.4927382275280333|\n",
      "|[0.3984380066394806]| 0.3984380066394806|0.4927382275280333|\n",
      "|[0.3828130066394806]|0.39583298563957214|0.4927382275280333|\n",
      "|[0.3789060115814209]|0.40104201436042786|0.4927382275280333|\n",
      "|[0.41145798563957...|0.43619799613952637|0.4927382275280333|\n",
      "|[0.43489599227905...| 0.4492189884185791|0.4927382275280333|\n",
      "|            [0.4375]|0.41145798563957214|0.4927382275280333|\n",
      "|[0.4140630066394806]|0.44010400772094727|0.4927382275280333|\n",
      "|[0.42057299613952...|0.42708298563957214|0.4927382275280333|\n",
      "|[0.43489599227905...| 0.4140630066394806|0.4927382275280333|\n",
      "+--------------------+-------------------+------------------+\n",
      "only showing top 20 rows\n",
      "\n"
     ]
    }
   ],
   "source": [
    "predic_train.show()"
   ]
  },
  {
   "cell_type": "code",
   "execution_count": 31,
   "metadata": {},
   "outputs": [
    {
     "name": "stdout",
     "output_type": "stream",
     "text": [
      "Root Mean Squared Error (RMSE) on train data = 2.7757341492215653\n",
      "R2 on train data = 0.9621077843289921\n"
     ]
    }
   ],
   "source": [
    "evaluator_rmse = RegressionEvaluator(labelCol=\"Close_after_n_days\", predictionCol=\"prediction\", metricName=\"rmse\")\n",
    "rmse_train = evaluator_rmse.evaluate(predic_train)\n",
    "print(\"Root Mean Squared Error (RMSE) on train data =\", rmse_train)\n",
    "\n",
    "evaluator_rmse = RegressionEvaluator(labelCol=\"Close_after_n_days\", predictionCol=\"prediction\", metricName=\"r2\")\n",
    "r2_train = evaluator_rmse.evaluate(predic_train)\n",
    "print(\"R2 on train data =\", r2_train)"
   ]
  },
  {
   "cell_type": "code",
   "execution_count": 32,
   "metadata": {},
   "outputs": [
    {
     "name": "stdout",
     "output_type": "stream",
     "text": [
      "Mean Absolute Percentage Error (MAPE) on train data = 17.38590799112775\n"
     ]
    }
   ],
   "source": [
    "from pyspark.sql.functions import abs\n",
    "\n",
    "def calculate_mape(df, labelCol, predictionCol):\n",
    "    df = df.withColumn(\"absolute_error\", abs(df[labelCol] - df[predictionCol]))\n",
    "    df = df.withColumn(\"percentage_error\", df[\"absolute_error\"] / df[labelCol] * 100)\n",
    "    mape = df.select(\"percentage_error\").agg({\"percentage_error\": \"avg\"}).collect()[0][0]\n",
    "    return mape\n",
    "\n",
    "mape_train = calculate_mape(predic_train, \"Close_after_n_days\", \"prediction\")\n",
    "print(\"Mean Absolute Percentage Error (MAPE) on train data =\", mape_train)"
   ]
  },
  {
   "cell_type": "code",
   "execution_count": 33,
   "metadata": {},
   "outputs": [
    {
     "data": {
      "image/png": "[encoded data removed]",
      "text/plain": [
       "<Figure size 1200x600 with 1 Axes>"
      ]
     },
     "metadata": {},
     "output_type": "display_data"
    }
   ],
   "source": [
    "# Visualization\n",
    "# Plot the actual vs predicted values for adjusted closing prices\n",
    "preds = predic_train.select(\"Close_after_n_days\", \"prediction\").toPandas()\n",
    "plt.figure(figsize=(12, 6))\n",
    "plt.plot(preds[\"Close_after_n_days\"], label='Actual', color='blue')\n",
    "plt.plot(preds[\"prediction\"], label='Predicted', color='red', alpha=0.6)\n",
    "plt.title('Actual vs Predicted Adjusted Closing Prices on train data')\n",
    "plt.xlabel('Days')\n",
    "plt.ylabel('Closing Price')\n",
    "plt.legend()\n",
    "plt.show()"
   ]
  }
 ],
 "metadata": {
  "kernelspec": {
   "display_name": "Python 3",
   "language": "python",
   "name": "python3"
  },
  "language_info": {
   "codemirror_mode": {
    "name": "ipython",
    "version": 3
   },
   "file_extension": ".py",
   "mimetype": "text/x-python",
   "name": "python",
   "nbconvert_exporter": "python",
   "pygments_lexer": "ipython3",
   "version": "3.11.5"
  }
 },
 "nbformat": 4,
 "nbformat_minor": 2
}
