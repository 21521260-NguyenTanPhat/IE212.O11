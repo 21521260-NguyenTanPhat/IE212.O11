{
 "cells": [
  {
   "cell_type": "code",
   "execution_count": 1,
   "metadata": {},
   "outputs": [],
   "source": [
    "#Khai báo thư viện\n",
    "from pyspark.sql import SparkSession\n",
    "from pyspark.ml.regression import GBTRegressor\n",
    "from pyspark.ml.feature import VectorAssembler\n",
    "from pyspark.ml.evaluation import RegressionEvaluator\n",
    "from pyspark.sql import functions as F\n",
    "from pyspark.sql.window import Window\n",
    "from pyspark.sql.functions import count, when, isnull\n",
    "import matplotlib.pyplot as plt\n",
    "import pandas as pd\n"
   ]
  },
  {
   "cell_type": "code",
   "execution_count": 2,
   "metadata": {},
   "outputs": [],
   "source": [
    "#Đọc file csv được thu thập từ trang https://finance.yahoo.com/\n",
    "spark = SparkSession.builder.getOrCreate()\n",
    "data = spark.read.csv(\"D:/IE212/DACK/Model/AAPL.csv\", header=True, inferSchema=True)"
   ]
  },
  {
   "cell_type": "markdown",
   "metadata": {},
   "source": [
    "## 1. Tập dữ liệu"
   ]
  },
  {
   "cell_type": "code",
   "execution_count": 3,
   "metadata": {},
   "outputs": [
    {
     "name": "stdout",
     "output_type": "stream",
     "text": [
      "+-------------------+-------------------+-------------------+-------------------+-------------------+-------------------+---------+\n",
      "|               Date|               Open|               High|                Low|              Close|          Adj Close|   Volume|\n",
      "+-------------------+-------------------+-------------------+-------------------+-------------------+-------------------+---------+\n",
      "|1980-12-12 00:00:00| 0.1283479928970337| 0.1289059966802597| 0.1283479928970337| 0.1283479928970337|0.09931866079568863|469033600|\n",
      "|1980-12-15 00:00:00|0.12221000343561172|0.12221000343561172|0.12165199965238571|0.12165199965238571|0.09413713216781616|175884800|\n",
      "|1980-12-16 00:00:00| 0.1132809966802597| 0.1132809966802597|0.11272300034761429|0.11272300034761429|0.08722767233848572|105728000|\n",
      "|1980-12-17 00:00:00|0.11551299691200256|0.11607100069522858|0.11551299691200256|0.11551299691200256|0.08938664197921753| 86441600|\n",
      "|1980-12-18 00:00:00|0.11886200308799744|0.11941999942064285|0.11886200308799744|0.11886200308799744|0.09197819232940674| 73449600|\n",
      "|1980-12-19 00:00:00|0.12611599266529083|0.12667399644851685|0.12611599266529083|0.12611599266529083|0.09759148955345154| 48630400|\n",
      "|1980-12-22 00:00:00| 0.1322540044784546| 0.1328130066394806| 0.1322540044784546| 0.1322540044784546|0.10234124213457108| 37363200|\n",
      "|1980-12-23 00:00:00|0.13783499598503113|0.13839299976825714|0.13783499598503113|0.13783499598503113|0.10665992647409439| 46950400|\n",
      "|1980-12-24 00:00:00|0.14508900046348572|0.14564700424671173|0.14508900046348572|0.14508900046348572|0.11227328330278397| 48003200|\n",
      "|1980-12-26 00:00:00|0.15848200023174286|0.15904000401496887|0.15848200023174286|0.15848200023174286|0.12263709306716919| 55574400|\n",
      "|1980-12-29 00:00:00|0.16071400046348572|0.16127200424671173|0.16071400046348572|0.16071400046348572|0.12436413019895554| 93161600|\n",
      "|1980-12-30 00:00:00|0.15736599266529083|0.15736599266529083|  0.156808003783226|  0.156808003783226|0.12134173512458801| 68880000|\n",
      "|1980-12-31 00:00:00| 0.1529020071029663| 0.1529020071029663| 0.1523440033197403| 0.1523440033197403|0.11788732558488846| 35750400|\n",
      "|1981-01-02 00:00:00|0.15401799976825714|0.15513400733470917|0.15401799976825714|0.15401799976825714|0.11918270587921143| 21660800|\n",
      "|1981-01-05 00:00:00|0.15122799575328827|0.15122799575328827|0.15067000687122345|0.15067000687122345| 0.1165919378399849| 35728000|\n",
      "|1981-01-06 00:00:00| 0.1445309966802597| 0.1445309966802597| 0.1439729928970337| 0.1439729928970337|0.11140961199998856| 45158400|\n",
      "|1981-01-07 00:00:00|0.13839299976825714|0.13839299976825714|0.13783499598503113|0.13783499598503113|0.10665992647409439| 55686400|\n",
      "|1981-01-08 00:00:00|0.13560299575328827|0.13560299575328827|0.13504500687122345|0.13504500687122345|0.10450096428394318| 39827200|\n",
      "|1981-01-09 00:00:00|0.14229899644851685|0.14285700023174286|0.14229899644851685|0.14229899644851685|0.11011426895856857| 21504000|\n",
      "|1981-01-12 00:00:00|0.14229899644851685|0.14229899644851685|  0.141183003783226|  0.141183003783226|0.10925071686506271| 23699200|\n",
      "+-------------------+-------------------+-------------------+-------------------+-------------------+-------------------+---------+\n",
      "only showing top 20 rows\n",
      "\n"
     ]
    }
   ],
   "source": [
    "# Chuyển cột \"Date\" thành index\n",
    "data = data.withColumn(\"Date\", data[\"Date\"].cast(\"timestamp\"))  # Chuyển định dạng cột \"Date\" sang timestamp nếu cần\n",
    "data = data.select(\"Date\", \"Open\", \"High\", \"Low\", \"Close\", \"Adj Close\", \"Volume\").orderBy(\"Date\")\n",
    "\n",
    "data.show()"
   ]
  },
  {
   "cell_type": "code",
   "execution_count": 4,
   "metadata": {},
   "outputs": [
    {
     "name": "stdout",
     "output_type": "stream",
     "text": [
      "Số dòng:  10856\n",
      "Số cột:  7\n"
     ]
    }
   ],
   "source": [
    "#Đếm số lượng dòng và cột của dataframe\n",
    "print('Số dòng: ', data.count())\n",
    "print('Số cột: ', len(data.columns))"
   ]
  },
  {
   "cell_type": "code",
   "execution_count": 5,
   "metadata": {},
   "outputs": [
    {
     "name": "stdout",
     "output_type": "stream",
     "text": [
      "Số dòng trùng lặp là: 0\n"
     ]
    }
   ],
   "source": [
    "#Kiểm tra số dòng trùng lặp\n",
    "duplicate_rows_count = data.groupBy(data.columns).count().filter(F.col('count') > 1).count()\n",
    "print(\"Số dòng trùng lặp là:\", duplicate_rows_count)"
   ]
  },
  {
   "cell_type": "code",
   "execution_count": 6,
   "metadata": {},
   "outputs": [
    {
     "name": "stdout",
     "output_type": "stream",
     "text": [
      "+----+----+----+---+-----+---------+------+\n",
      "|Date|Open|High|Low|Close|Adj Close|Volume|\n",
      "+----+----+----+---+-----+---------+------+\n",
      "|   0|   0|   0|  0|    0|        0|     0|\n",
      "+----+----+----+---+-----+---------+------+\n",
      "\n"
     ]
    }
   ],
   "source": [
    "#Kiểm tra giá trị null\n",
    "data.select([count(when(isnull(c), c)).alias(c) for c in data.columns]).show()"
   ]
  },
  {
   "cell_type": "code",
   "execution_count": 7,
   "metadata": {},
   "outputs": [
    {
     "name": "stdout",
     "output_type": "stream",
     "text": [
      "+-------+--------------------+--------------------+-------------------+-------------------+-------------------+--------------------+\n",
      "|summary|                Open|                High|                Low|              Close|          Adj Close|              Volume|\n",
      "+-------+--------------------+--------------------+-------------------+-------------------+-------------------+--------------------+\n",
      "|  count|               10856|               10856|              10856|              10856|              10856|               10856|\n",
      "|   mean|  20.103476594597534|  20.323377769321336|  19.89190696420247| 20.116814947325746| 19.366405233608692|3.2141423008474576E8|\n",
      "| stddev|   42.02354689428577|   42.48692993820093|  41.59103703768576| 42.060461022396126|  41.66742264388867|3.3634595800176865E8|\n",
      "|    min|0.049665000289678574|0.049665000289678574|0.04910700023174286|0.04910700023174286|0.03800012916326523|                   0|\n",
      "|    max|  198.02000427246094|   199.6199951171875|              197.0| 198.11000061035156| 198.11000061035156|          7421640800|\n",
      "+-------+--------------------+--------------------+-------------------+-------------------+-------------------+--------------------+\n",
      "\n"
     ]
    }
   ],
   "source": [
    "data.describe().show()"
   ]
  },
  {
   "cell_type": "code",
   "execution_count": 8,
   "metadata": {},
   "outputs": [
    {
     "data": {
      "text/html": [
       "<div>\n",
       "<style scoped>\n",
       "    .dataframe tbody tr th:only-of-type {\n",
       "        vertical-align: middle;\n",
       "    }\n",
       "\n",
       "    .dataframe tbody tr th {\n",
       "        vertical-align: top;\n",
       "    }\n",
       "\n",
       "    .dataframe thead th {\n",
       "        text-align: right;\n",
       "    }\n",
       "</style>\n",
       "<table border=\"1\" class=\"dataframe\">\n",
       "  <thead>\n",
       "    <tr style=\"text-align: right;\">\n",
       "      <th></th>\n",
       "      <th>Open</th>\n",
       "      <th>High</th>\n",
       "      <th>Low</th>\n",
       "      <th>Close</th>\n",
       "      <th>Adj Close</th>\n",
       "      <th>Volume</th>\n",
       "    </tr>\n",
       "    <tr>\n",
       "      <th>Date</th>\n",
       "      <th></th>\n",
       "      <th></th>\n",
       "      <th></th>\n",
       "      <th></th>\n",
       "      <th></th>\n",
       "      <th></th>\n",
       "    </tr>\n",
       "  </thead>\n",
       "  <tbody>\n",
       "    <tr>\n",
       "      <th>1980-12-12</th>\n",
       "      <td>0.128348</td>\n",
       "      <td>0.128906</td>\n",
       "      <td>0.128348</td>\n",
       "      <td>0.128348</td>\n",
       "      <td>0.099319</td>\n",
       "      <td>469033600</td>\n",
       "    </tr>\n",
       "    <tr>\n",
       "      <th>1980-12-15</th>\n",
       "      <td>0.122210</td>\n",
       "      <td>0.122210</td>\n",
       "      <td>0.121652</td>\n",
       "      <td>0.121652</td>\n",
       "      <td>0.094137</td>\n",
       "      <td>175884800</td>\n",
       "    </tr>\n",
       "    <tr>\n",
       "      <th>1980-12-16</th>\n",
       "      <td>0.113281</td>\n",
       "      <td>0.113281</td>\n",
       "      <td>0.112723</td>\n",
       "      <td>0.112723</td>\n",
       "      <td>0.087228</td>\n",
       "      <td>105728000</td>\n",
       "    </tr>\n",
       "    <tr>\n",
       "      <th>1980-12-17</th>\n",
       "      <td>0.115513</td>\n",
       "      <td>0.116071</td>\n",
       "      <td>0.115513</td>\n",
       "      <td>0.115513</td>\n",
       "      <td>0.089387</td>\n",
       "      <td>86441600</td>\n",
       "    </tr>\n",
       "    <tr>\n",
       "      <th>1980-12-18</th>\n",
       "      <td>0.118862</td>\n",
       "      <td>0.119420</td>\n",
       "      <td>0.118862</td>\n",
       "      <td>0.118862</td>\n",
       "      <td>0.091978</td>\n",
       "      <td>73449600</td>\n",
       "    </tr>\n",
       "  </tbody>\n",
       "</table>\n",
       "</div>"
      ],
      "text/plain": [
       "                Open      High       Low     Close  Adj Close     Volume\n",
       "Date                                                                    \n",
       "1980-12-12  0.128348  0.128906  0.128348  0.128348   0.099319  469033600\n",
       "1980-12-15  0.122210  0.122210  0.121652  0.121652   0.094137  175884800\n",
       "1980-12-16  0.113281  0.113281  0.112723  0.112723   0.087228  105728000\n",
       "1980-12-17  0.115513  0.116071  0.115513  0.115513   0.089387   86441600\n",
       "1980-12-18  0.118862  0.119420  0.118862  0.118862   0.091978   73449600"
      ]
     },
     "execution_count": 8,
     "metadata": {},
     "output_type": "execute_result"
    }
   ],
   "source": [
    "#Chuyển dữ liệu về pandas để thực hiện vẽ biểu đồ\n",
    "pandas_df =data.toPandas()\n",
    "pandas_df['Date'] = pd.to_datetime(pandas_df['Date'])\n",
    "pandas_df.set_index('Date', inplace=True)\n",
    "pandas_df.sort_index(inplace=True)\n",
    "pandas_df.head()"
   ]
  },
  {
   "cell_type": "code",
   "execution_count": 9,
   "metadata": {},
   "outputs": [
    {
     "data": {
      "text/plain": [
       "<Axes: xlabel='Date'>"
      ]
     },
     "execution_count": 9,
     "metadata": {},
     "output_type": "execute_result"
    },
    {
     "data": {
      "image/png": "[encoded data removed]",
      "text/plain": [
       "<Figure size 640x480 with 1 Axes>"
      ]
     },
     "metadata": {},
     "output_type": "display_data"
    }
   ],
   "source": [
    "pandas_df.plot.line(y=\"Close\", use_index=True)"
   ]
  },
  {
   "cell_type": "code",
   "execution_count": 10,
   "metadata": {},
   "outputs": [
    {
     "data": {
      "text/plain": [
       "<Axes: xlabel='Date'>"
      ]
     },
     "execution_count": 10,
     "metadata": {},
     "output_type": "execute_result"
    },
    {
     "data": {
      "image/png": "[encoded data removed]",
      "text/plain": [
       "<Figure size 640x480 with 1 Axes>"
      ]
     },
     "metadata": {},
     "output_type": "display_data"
    }
   ],
   "source": [
    "pandas_df.plot.line(y=\"Volume\", use_index=True)"
   ]
  },
  {
   "cell_type": "markdown",
   "metadata": {},
   "source": [
    "## 2. Chia dữ liệu để huấn luyện mô hình"
   ]
  },
  {
   "cell_type": "code",
   "execution_count": 11,
   "metadata": {},
   "outputs": [],
   "source": [
    "# Dự đoán 15 ngày sau dựa vào 15 ngày trước.\n",
    "forecast_out =15\n",
    "window_spec = Window().orderBy(\"Date\") \n",
    "data = data.withColumn(\"Close_after_n_days\", F.lead(\"Close\", forecast_out).over(window_spec))"
   ]
  },
  {
   "cell_type": "code",
   "execution_count": 12,
   "metadata": {},
   "outputs": [
    {
     "name": "stdout",
     "output_type": "stream",
     "text": [
      "+-------------------+-------------------+-------------------+-------------------+-------------------+-------------------+---------+-------------------+\n",
      "|               Date|               Open|               High|                Low|              Close|          Adj Close|   Volume| Close_after_n_days|\n",
      "+-------------------+-------------------+-------------------+-------------------+-------------------+-------------------+---------+-------------------+\n",
      "|1980-12-12 00:00:00| 0.1283479928970337| 0.1289059966802597| 0.1283479928970337| 0.1283479928970337|0.09931866079568863|469033600| 0.1439729928970337|\n",
      "|1980-12-15 00:00:00|0.12221000343561172|0.12221000343561172|0.12165199965238571|0.12165199965238571|0.09413713216781616|175884800|0.13783499598503113|\n",
      "|1980-12-16 00:00:00| 0.1132809966802597| 0.1132809966802597|0.11272300034761429|0.11272300034761429|0.08722767233848572|105728000|0.13504500687122345|\n",
      "|1980-12-17 00:00:00|0.11551299691200256|0.11607100069522858|0.11551299691200256|0.11551299691200256|0.08938664197921753| 86441600|0.14229899644851685|\n",
      "|1980-12-18 00:00:00|0.11886200308799744|0.11941999942064285|0.11886200308799744|0.11886200308799744|0.09197819232940674| 73449600|  0.141183003783226|\n",
      "|1980-12-19 00:00:00|0.12611599266529083|0.12667399644851685|0.12611599266529083|0.12611599266529083|0.09759148955345154| 48630400|0.13616099953651428|\n",
      "|1980-12-22 00:00:00| 0.1322540044784546| 0.1328130066394806| 0.1322540044784546| 0.1322540044784546|0.10234124213457108| 37363200| 0.1367190033197403|\n",
      "|1980-12-23 00:00:00|0.13783499598503113|0.13839299976825714|0.13783499598503113|0.13783499598503113|0.10665992647409439| 46950400|0.13950900733470917|\n",
      "|1980-12-24 00:00:00|0.14508900046348572|0.14564700424671173|0.14508900046348572|0.14508900046348572|0.11227328330278397| 48003200|0.13839299976825714|\n",
      "|1980-12-26 00:00:00|0.15848200023174286|0.15904000401496887|0.15848200023174286|0.15848200023174286|0.12263709306716919| 55574400|0.14676299691200256|\n",
      "|1980-12-29 00:00:00|0.16071400046348572|0.16127200424671173|0.16071400046348572|0.16071400046348572|0.12436413019895554| 93161600|0.14229899644851685|\n",
      "|1980-12-30 00:00:00|0.15736599266529083|0.15736599266529083|  0.156808003783226|  0.156808003783226|0.12134173512458801| 68880000|0.14508900046348572|\n",
      "|1980-12-31 00:00:00| 0.1529020071029663| 0.1529020071029663| 0.1523440033197403| 0.1523440033197403|0.11788732558488846| 35750400|0.14676299691200256|\n",
      "|1981-01-02 00:00:00|0.15401799976825714|0.15513400733470917|0.15401799976825714|0.15401799976825714|0.11918270587921143| 21660800|0.14620499312877655|\n",
      "|1981-01-05 00:00:00|0.15122799575328827|0.15122799575328827|0.15067000687122345|0.15067000687122345| 0.1165919378399849| 35728000| 0.1439729928970337|\n",
      "|1981-01-06 00:00:00| 0.1445309966802597| 0.1445309966802597| 0.1439729928970337| 0.1439729928970337|0.11140961199998856| 45158400|0.14285700023174286|\n",
      "|1981-01-07 00:00:00|0.13839299976825714|0.13839299976825714|0.13783499598503113|0.13783499598503113|0.10665992647409439| 55686400|0.13839299976825714|\n",
      "|1981-01-08 00:00:00|0.13560299575328827|0.13560299575328827|0.13504500687122345|0.13504500687122345|0.10450096428394318| 39827200| 0.1333709955215454|\n",
      "|1981-01-09 00:00:00|0.14229899644851685|0.14285700023174286|0.14229899644851685|0.14229899644851685|0.11011426895856857| 21504000|0.12611599266529083|\n",
      "|1981-01-12 00:00:00|0.14229899644851685|0.14229899644851685|  0.141183003783226|  0.141183003783226|0.10925071686506271| 23699200|0.11886200308799744|\n",
      "+-------------------+-------------------+-------------------+-------------------+-------------------+-------------------+---------+-------------------+\n",
      "only showing top 20 rows\n",
      "\n"
     ]
    }
   ],
   "source": [
    "data.show()"
   ]
  },
  {
   "cell_type": "code",
   "execution_count": 13,
   "metadata": {},
   "outputs": [
    {
     "data": {
      "text/html": [
       "<div>\n",
       "<style scoped>\n",
       "    .dataframe tbody tr th:only-of-type {\n",
       "        vertical-align: middle;\n",
       "    }\n",
       "\n",
       "    .dataframe tbody tr th {\n",
       "        vertical-align: top;\n",
       "    }\n",
       "\n",
       "    .dataframe thead th {\n",
       "        text-align: right;\n",
       "    }\n",
       "</style>\n",
       "<table border=\"1\" class=\"dataframe\">\n",
       "  <thead>\n",
       "    <tr style=\"text-align: right;\">\n",
       "      <th></th>\n",
       "      <th>Date</th>\n",
       "      <th>Open</th>\n",
       "      <th>High</th>\n",
       "      <th>Low</th>\n",
       "      <th>Close</th>\n",
       "      <th>Adj Close</th>\n",
       "      <th>Volume</th>\n",
       "      <th>Close_after_n_days</th>\n",
       "    </tr>\n",
       "  </thead>\n",
       "  <tbody>\n",
       "    <tr>\n",
       "      <th>10826</th>\n",
       "      <td>2023-11-21</td>\n",
       "      <td>191.410004</td>\n",
       "      <td>191.520004</td>\n",
       "      <td>189.740005</td>\n",
       "      <td>190.639999</td>\n",
       "      <td>190.639999</td>\n",
       "      <td>38134500</td>\n",
       "      <td>197.960007</td>\n",
       "    </tr>\n",
       "    <tr>\n",
       "      <th>10827</th>\n",
       "      <td>2023-11-22</td>\n",
       "      <td>191.490005</td>\n",
       "      <td>192.929993</td>\n",
       "      <td>190.830002</td>\n",
       "      <td>191.309998</td>\n",
       "      <td>191.309998</td>\n",
       "      <td>39617700</td>\n",
       "      <td>198.110001</td>\n",
       "    </tr>\n",
       "    <tr>\n",
       "      <th>10828</th>\n",
       "      <td>2023-11-24</td>\n",
       "      <td>190.869995</td>\n",
       "      <td>190.899994</td>\n",
       "      <td>189.250000</td>\n",
       "      <td>189.970001</td>\n",
       "      <td>189.970001</td>\n",
       "      <td>24048300</td>\n",
       "      <td>197.570007</td>\n",
       "    </tr>\n",
       "    <tr>\n",
       "      <th>10829</th>\n",
       "      <td>2023-11-27</td>\n",
       "      <td>189.919998</td>\n",
       "      <td>190.669998</td>\n",
       "      <td>188.899994</td>\n",
       "      <td>189.789993</td>\n",
       "      <td>189.789993</td>\n",
       "      <td>40552600</td>\n",
       "      <td>195.889999</td>\n",
       "    </tr>\n",
       "    <tr>\n",
       "      <th>10830</th>\n",
       "      <td>2023-11-28</td>\n",
       "      <td>189.779999</td>\n",
       "      <td>191.080002</td>\n",
       "      <td>189.399994</td>\n",
       "      <td>190.399994</td>\n",
       "      <td>190.399994</td>\n",
       "      <td>38415400</td>\n",
       "      <td>196.940002</td>\n",
       "    </tr>\n",
       "    <tr>\n",
       "      <th>10831</th>\n",
       "      <td>2023-11-29</td>\n",
       "      <td>190.899994</td>\n",
       "      <td>192.089996</td>\n",
       "      <td>188.970001</td>\n",
       "      <td>189.369995</td>\n",
       "      <td>189.369995</td>\n",
       "      <td>43014200</td>\n",
       "      <td>194.830002</td>\n",
       "    </tr>\n",
       "    <tr>\n",
       "      <th>10832</th>\n",
       "      <td>2023-11-30</td>\n",
       "      <td>189.839996</td>\n",
       "      <td>190.320007</td>\n",
       "      <td>188.190002</td>\n",
       "      <td>189.949997</td>\n",
       "      <td>189.949997</td>\n",
       "      <td>48794400</td>\n",
       "      <td>194.679993</td>\n",
       "    </tr>\n",
       "    <tr>\n",
       "      <th>10833</th>\n",
       "      <td>2023-12-01</td>\n",
       "      <td>190.330002</td>\n",
       "      <td>191.559998</td>\n",
       "      <td>189.229996</td>\n",
       "      <td>191.240005</td>\n",
       "      <td>191.240005</td>\n",
       "      <td>45679300</td>\n",
       "      <td>193.600006</td>\n",
       "    </tr>\n",
       "    <tr>\n",
       "      <th>10834</th>\n",
       "      <td>2023-12-04</td>\n",
       "      <td>189.979996</td>\n",
       "      <td>190.050003</td>\n",
       "      <td>187.449997</td>\n",
       "      <td>189.429993</td>\n",
       "      <td>189.429993</td>\n",
       "      <td>43389500</td>\n",
       "      <td>193.050003</td>\n",
       "    </tr>\n",
       "    <tr>\n",
       "      <th>10835</th>\n",
       "      <td>2023-12-05</td>\n",
       "      <td>190.210007</td>\n",
       "      <td>194.399994</td>\n",
       "      <td>190.179993</td>\n",
       "      <td>193.419998</td>\n",
       "      <td>193.419998</td>\n",
       "      <td>66628400</td>\n",
       "      <td>193.149994</td>\n",
       "    </tr>\n",
       "    <tr>\n",
       "      <th>10836</th>\n",
       "      <td>2023-12-06</td>\n",
       "      <td>194.449997</td>\n",
       "      <td>194.759995</td>\n",
       "      <td>192.110001</td>\n",
       "      <td>192.320007</td>\n",
       "      <td>192.320007</td>\n",
       "      <td>41089700</td>\n",
       "      <td>193.580002</td>\n",
       "    </tr>\n",
       "    <tr>\n",
       "      <th>10837</th>\n",
       "      <td>2023-12-07</td>\n",
       "      <td>193.630005</td>\n",
       "      <td>195.000000</td>\n",
       "      <td>193.589996</td>\n",
       "      <td>194.270004</td>\n",
       "      <td>194.270004</td>\n",
       "      <td>47477700</td>\n",
       "      <td>192.529999</td>\n",
       "    </tr>\n",
       "    <tr>\n",
       "      <th>10838</th>\n",
       "      <td>2023-12-08</td>\n",
       "      <td>194.199997</td>\n",
       "      <td>195.990005</td>\n",
       "      <td>193.669998</td>\n",
       "      <td>195.710007</td>\n",
       "      <td>195.710007</td>\n",
       "      <td>53377300</td>\n",
       "      <td>185.639999</td>\n",
       "    </tr>\n",
       "    <tr>\n",
       "      <th>10839</th>\n",
       "      <td>2023-12-11</td>\n",
       "      <td>193.110001</td>\n",
       "      <td>193.490005</td>\n",
       "      <td>191.419998</td>\n",
       "      <td>193.179993</td>\n",
       "      <td>193.179993</td>\n",
       "      <td>60943700</td>\n",
       "      <td>184.250000</td>\n",
       "    </tr>\n",
       "    <tr>\n",
       "      <th>10840</th>\n",
       "      <td>2023-12-12</td>\n",
       "      <td>193.080002</td>\n",
       "      <td>194.720001</td>\n",
       "      <td>191.720001</td>\n",
       "      <td>194.710007</td>\n",
       "      <td>194.710007</td>\n",
       "      <td>52696900</td>\n",
       "      <td>181.910004</td>\n",
       "    </tr>\n",
       "    <tr>\n",
       "      <th>10841</th>\n",
       "      <td>2023-12-13</td>\n",
       "      <td>195.089996</td>\n",
       "      <td>198.000000</td>\n",
       "      <td>194.850006</td>\n",
       "      <td>197.960007</td>\n",
       "      <td>197.960007</td>\n",
       "      <td>70404200</td>\n",
       "      <td>NaN</td>\n",
       "    </tr>\n",
       "    <tr>\n",
       "      <th>10842</th>\n",
       "      <td>2023-12-14</td>\n",
       "      <td>198.020004</td>\n",
       "      <td>199.619995</td>\n",
       "      <td>196.160004</td>\n",
       "      <td>198.110001</td>\n",
       "      <td>198.110001</td>\n",
       "      <td>66831600</td>\n",
       "      <td>NaN</td>\n",
       "    </tr>\n",
       "    <tr>\n",
       "      <th>10843</th>\n",
       "      <td>2023-12-15</td>\n",
       "      <td>197.529999</td>\n",
       "      <td>198.399994</td>\n",
       "      <td>197.000000</td>\n",
       "      <td>197.570007</td>\n",
       "      <td>197.570007</td>\n",
       "      <td>128256700</td>\n",
       "      <td>NaN</td>\n",
       "    </tr>\n",
       "    <tr>\n",
       "      <th>10844</th>\n",
       "      <td>2023-12-18</td>\n",
       "      <td>196.089996</td>\n",
       "      <td>196.630005</td>\n",
       "      <td>194.389999</td>\n",
       "      <td>195.889999</td>\n",
       "      <td>195.889999</td>\n",
       "      <td>55751900</td>\n",
       "      <td>NaN</td>\n",
       "    </tr>\n",
       "    <tr>\n",
       "      <th>10845</th>\n",
       "      <td>2023-12-19</td>\n",
       "      <td>196.160004</td>\n",
       "      <td>196.949997</td>\n",
       "      <td>195.889999</td>\n",
       "      <td>196.940002</td>\n",
       "      <td>196.940002</td>\n",
       "      <td>40714100</td>\n",
       "      <td>NaN</td>\n",
       "    </tr>\n",
       "    <tr>\n",
       "      <th>10846</th>\n",
       "      <td>2023-12-20</td>\n",
       "      <td>196.899994</td>\n",
       "      <td>197.679993</td>\n",
       "      <td>194.830002</td>\n",
       "      <td>194.830002</td>\n",
       "      <td>194.830002</td>\n",
       "      <td>52242800</td>\n",
       "      <td>NaN</td>\n",
       "    </tr>\n",
       "    <tr>\n",
       "      <th>10847</th>\n",
       "      <td>2023-12-21</td>\n",
       "      <td>196.100006</td>\n",
       "      <td>197.080002</td>\n",
       "      <td>193.500000</td>\n",
       "      <td>194.679993</td>\n",
       "      <td>194.679993</td>\n",
       "      <td>46482500</td>\n",
       "      <td>NaN</td>\n",
       "    </tr>\n",
       "    <tr>\n",
       "      <th>10848</th>\n",
       "      <td>2023-12-22</td>\n",
       "      <td>195.179993</td>\n",
       "      <td>195.410004</td>\n",
       "      <td>192.970001</td>\n",
       "      <td>193.600006</td>\n",
       "      <td>193.600006</td>\n",
       "      <td>37122800</td>\n",
       "      <td>NaN</td>\n",
       "    </tr>\n",
       "    <tr>\n",
       "      <th>10849</th>\n",
       "      <td>2023-12-26</td>\n",
       "      <td>193.610001</td>\n",
       "      <td>193.889999</td>\n",
       "      <td>192.830002</td>\n",
       "      <td>193.050003</td>\n",
       "      <td>193.050003</td>\n",
       "      <td>28919300</td>\n",
       "      <td>NaN</td>\n",
       "    </tr>\n",
       "    <tr>\n",
       "      <th>10850</th>\n",
       "      <td>2023-12-27</td>\n",
       "      <td>192.490005</td>\n",
       "      <td>193.500000</td>\n",
       "      <td>191.089996</td>\n",
       "      <td>193.149994</td>\n",
       "      <td>193.149994</td>\n",
       "      <td>48087700</td>\n",
       "      <td>NaN</td>\n",
       "    </tr>\n",
       "    <tr>\n",
       "      <th>10851</th>\n",
       "      <td>2023-12-28</td>\n",
       "      <td>194.139999</td>\n",
       "      <td>194.660004</td>\n",
       "      <td>193.169998</td>\n",
       "      <td>193.580002</td>\n",
       "      <td>193.580002</td>\n",
       "      <td>34049900</td>\n",
       "      <td>NaN</td>\n",
       "    </tr>\n",
       "    <tr>\n",
       "      <th>10852</th>\n",
       "      <td>2023-12-29</td>\n",
       "      <td>193.899994</td>\n",
       "      <td>194.399994</td>\n",
       "      <td>191.729996</td>\n",
       "      <td>192.529999</td>\n",
       "      <td>192.529999</td>\n",
       "      <td>42628800</td>\n",
       "      <td>NaN</td>\n",
       "    </tr>\n",
       "    <tr>\n",
       "      <th>10853</th>\n",
       "      <td>2024-01-02</td>\n",
       "      <td>187.149994</td>\n",
       "      <td>188.440002</td>\n",
       "      <td>183.889999</td>\n",
       "      <td>185.639999</td>\n",
       "      <td>185.639999</td>\n",
       "      <td>82488700</td>\n",
       "      <td>NaN</td>\n",
       "    </tr>\n",
       "    <tr>\n",
       "      <th>10854</th>\n",
       "      <td>2024-01-03</td>\n",
       "      <td>184.220001</td>\n",
       "      <td>185.880005</td>\n",
       "      <td>183.429993</td>\n",
       "      <td>184.250000</td>\n",
       "      <td>184.250000</td>\n",
       "      <td>58414500</td>\n",
       "      <td>NaN</td>\n",
       "    </tr>\n",
       "    <tr>\n",
       "      <th>10855</th>\n",
       "      <td>2024-01-04</td>\n",
       "      <td>182.149994</td>\n",
       "      <td>183.089996</td>\n",
       "      <td>180.880005</td>\n",
       "      <td>181.910004</td>\n",
       "      <td>181.910004</td>\n",
       "      <td>71983600</td>\n",
       "      <td>NaN</td>\n",
       "    </tr>\n",
       "  </tbody>\n",
       "</table>\n",
       "</div>"
      ],
      "text/plain": [
       "            Date        Open        High         Low       Close   Adj Close  \\\n",
       "10826 2023-11-21  191.410004  191.520004  189.740005  190.639999  190.639999   \n",
       "10827 2023-11-22  191.490005  192.929993  190.830002  191.309998  191.309998   \n",
       "10828 2023-11-24  190.869995  190.899994  189.250000  189.970001  189.970001   \n",
       "10829 2023-11-27  189.919998  190.669998  188.899994  189.789993  189.789993   \n",
       "10830 2023-11-28  189.779999  191.080002  189.399994  190.399994  190.399994   \n",
       "10831 2023-11-29  190.899994  192.089996  188.970001  189.369995  189.369995   \n",
       "10832 2023-11-30  189.839996  190.320007  188.190002  189.949997  189.949997   \n",
       "10833 2023-12-01  190.330002  191.559998  189.229996  191.240005  191.240005   \n",
       "10834 2023-12-04  189.979996  190.050003  187.449997  189.429993  189.429993   \n",
       "10835 2023-12-05  190.210007  194.399994  190.179993  193.419998  193.419998   \n",
       "10836 2023-12-06  194.449997  194.759995  192.110001  192.320007  192.320007   \n",
       "10837 2023-12-07  193.630005  195.000000  193.589996  194.270004  194.270004   \n",
       "10838 2023-12-08  194.199997  195.990005  193.669998  195.710007  195.710007   \n",
       "10839 2023-12-11  193.110001  193.490005  191.419998  193.179993  193.179993   \n",
       "10840 2023-12-12  193.080002  194.720001  191.720001  194.710007  194.710007   \n",
       "10841 2023-12-13  195.089996  198.000000  194.850006  197.960007  197.960007   \n",
       "10842 2023-12-14  198.020004  199.619995  196.160004  198.110001  198.110001   \n",
       "10843 2023-12-15  197.529999  198.399994  197.000000  197.570007  197.570007   \n",
       "10844 2023-12-18  196.089996  196.630005  194.389999  195.889999  195.889999   \n",
       "10845 2023-12-19  196.160004  196.949997  195.889999  196.940002  196.940002   \n",
       "10846 2023-12-20  196.899994  197.679993  194.830002  194.830002  194.830002   \n",
       "10847 2023-12-21  196.100006  197.080002  193.500000  194.679993  194.679993   \n",
       "10848 2023-12-22  195.179993  195.410004  192.970001  193.600006  193.600006   \n",
       "10849 2023-12-26  193.610001  193.889999  192.830002  193.050003  193.050003   \n",
       "10850 2023-12-27  192.490005  193.500000  191.089996  193.149994  193.149994   \n",
       "10851 2023-12-28  194.139999  194.660004  193.169998  193.580002  193.580002   \n",
       "10852 2023-12-29  193.899994  194.399994  191.729996  192.529999  192.529999   \n",
       "10853 2024-01-02  187.149994  188.440002  183.889999  185.639999  185.639999   \n",
       "10854 2024-01-03  184.220001  185.880005  183.429993  184.250000  184.250000   \n",
       "10855 2024-01-04  182.149994  183.089996  180.880005  181.910004  181.910004   \n",
       "\n",
       "          Volume  Close_after_n_days  \n",
       "10826   38134500          197.960007  \n",
       "10827   39617700          198.110001  \n",
       "10828   24048300          197.570007  \n",
       "10829   40552600          195.889999  \n",
       "10830   38415400          196.940002  \n",
       "10831   43014200          194.830002  \n",
       "10832   48794400          194.679993  \n",
       "10833   45679300          193.600006  \n",
       "10834   43389500          193.050003  \n",
       "10835   66628400          193.149994  \n",
       "10836   41089700          193.580002  \n",
       "10837   47477700          192.529999  \n",
       "10838   53377300          185.639999  \n",
       "10839   60943700          184.250000  \n",
       "10840   52696900          181.910004  \n",
       "10841   70404200                 NaN  \n",
       "10842   66831600                 NaN  \n",
       "10843  128256700                 NaN  \n",
       "10844   55751900                 NaN  \n",
       "10845   40714100                 NaN  \n",
       "10846   52242800                 NaN  \n",
       "10847   46482500                 NaN  \n",
       "10848   37122800                 NaN  \n",
       "10849   28919300                 NaN  \n",
       "10850   48087700                 NaN  \n",
       "10851   34049900                 NaN  \n",
       "10852   42628800                 NaN  \n",
       "10853   82488700                 NaN  \n",
       "10854   58414500                 NaN  \n",
       "10855   71983600                 NaN  "
      ]
     },
     "execution_count": 13,
     "metadata": {},
     "output_type": "execute_result"
    }
   ],
   "source": [
    "df = data.toPandas()\n",
    "df.tail(30)"
   ]
  },
  {
   "cell_type": "code",
   "execution_count": 14,
   "metadata": {},
   "outputs": [
    {
     "name": "stdout",
     "output_type": "stream",
     "text": [
      "+-------------------+-------------------+\n",
      "|              Close| Close_after_n_days|\n",
      "+-------------------+-------------------+\n",
      "| 0.1283479928970337| 0.1439729928970337|\n",
      "|0.12165199965238571|0.13783499598503113|\n",
      "|0.11272300034761429|0.13504500687122345|\n",
      "|0.11551299691200256|0.14229899644851685|\n",
      "|0.11886200308799744|  0.141183003783226|\n",
      "|0.12611599266529083|0.13616099953651428|\n",
      "| 0.1322540044784546| 0.1367190033197403|\n",
      "|0.13783499598503113|0.13950900733470917|\n",
      "|0.14508900046348572|0.13839299976825714|\n",
      "|0.15848200023174286|0.14676299691200256|\n",
      "|0.16071400046348572|0.14229899644851685|\n",
      "|  0.156808003783226|0.14508900046348572|\n",
      "| 0.1523440033197403|0.14676299691200256|\n",
      "|0.15401799976825714|0.14620499312877655|\n",
      "|0.15067000687122345| 0.1439729928970337|\n",
      "| 0.1439729928970337|0.14285700023174286|\n",
      "|0.13783499598503113|0.13839299976825714|\n",
      "|0.13504500687122345| 0.1333709955215454|\n",
      "|0.14229899644851685|0.12611599266529083|\n",
      "|  0.141183003783226|0.11886200308799744|\n",
      "|0.13616099953651428|0.12332600355148315|\n",
      "| 0.1367190033197403|0.12779000401496887|\n",
      "|0.13950900733470917|0.12779000401496887|\n",
      "|0.13839299976825714| 0.1283479928970337|\n",
      "|0.14676299691200256|0.12165199965238571|\n",
      "|0.14229899644851685|0.12165199965238571|\n",
      "|0.14508900046348572|0.11774600297212601|\n",
      "|0.14676299691200256|0.11662899702787399|\n",
      "|0.14620499312877655|0.11383900046348572|\n",
      "| 0.1439729928970337|0.11662899702787399|\n",
      "+-------------------+-------------------+\n",
      "only showing top 30 rows\n",
      "\n"
     ]
    }
   ],
   "source": [
    "# New DataFrame with only relevant data\n",
    "df_new = data.select(\"Close\", \"Close_after_n_days\")\n",
    "\n",
    "# Show the resulting DataFrame\n",
    "df_new.show(30)"
   ]
  },
  {
   "cell_type": "code",
   "execution_count": 15,
   "metadata": {},
   "outputs": [
    {
     "name": "stdout",
     "output_type": "stream",
     "text": [
      "+--------------------+------------------+\n",
      "|features            |Close_after_n_days|\n",
      "+--------------------+------------------+\n",
      "|[197.9600067138672] |NULL              |\n",
      "|[198.11000061035156]|NULL              |\n",
      "|[197.57000732421875]|NULL              |\n",
      "|[195.88999938964844]|NULL              |\n",
      "|[196.94000244140625]|NULL              |\n",
      "|[194.8300018310547] |NULL              |\n",
      "|[194.67999267578125]|NULL              |\n",
      "|[193.60000610351562]|NULL              |\n",
      "|[193.0500030517578] |NULL              |\n",
      "|[193.14999389648438]|NULL              |\n",
      "|[193.5800018310547] |NULL              |\n",
      "|[192.52999877929688]|NULL              |\n",
      "|[185.63999938964844]|NULL              |\n",
      "|[184.25]            |NULL              |\n",
      "|[181.91000366210938]|NULL              |\n",
      "+--------------------+------------------+\n",
      "\n"
     ]
    }
   ],
   "source": [
    "# Select rows where 'Close_after_n_days' is NaN\n",
    "df_forecast = df_new.filter(isnull(\"Close_after_n_days\"))\n",
    "feature_col = [\"Close\"]\n",
    "# Vector Assembler to combine feature columns into a single vector column\n",
    "assembler = VectorAssembler(inputCols=feature_col, outputCol=\"features\")\n",
    "df_assembled_forecast = assembler.transform(df_forecast).select(\"features\", \"Close_after_n_days\")\n",
    "# Show the resulting DataFrame\n",
    "df_assembled_forecast.show(truncate=False)"
   ]
  },
  {
   "cell_type": "code",
   "execution_count": 16,
   "metadata": {},
   "outputs": [],
   "source": [
    "# All columns of known data except labels, discard last 35 rows\n",
    "y_col = \"Close_after_n_days\"\n",
    "feature_cols = [col for col in df_new.columns if col != y_col]\n",
    "df_features = df_new.select(*feature_cols, \"Close_after_n_days\").limit(df_new.count() - forecast_out)\n",
    "\n",
    "# Vector Assembler to combine feature columns into a single vector column\n",
    "assembler = VectorAssembler(inputCols=feature_cols, outputCol=\"features\")\n",
    "df_assembled = assembler.transform(df_features).select(\"features\", \"Close_after_n_days\")"
   ]
  },
  {
   "cell_type": "code",
   "execution_count": 17,
   "metadata": {},
   "outputs": [
    {
     "data": {
      "text/html": [
       "<div>\n",
       "<style scoped>\n",
       "    .dataframe tbody tr th:only-of-type {\n",
       "        vertical-align: middle;\n",
       "    }\n",
       "\n",
       "    .dataframe tbody tr th {\n",
       "        vertical-align: top;\n",
       "    }\n",
       "\n",
       "    .dataframe thead th {\n",
       "        text-align: right;\n",
       "    }\n",
       "</style>\n",
       "<table border=\"1\" class=\"dataframe\">\n",
       "  <thead>\n",
       "    <tr style=\"text-align: right;\">\n",
       "      <th></th>\n",
       "      <th>Close</th>\n",
       "      <th>Close_after_n_days</th>\n",
       "    </tr>\n",
       "  </thead>\n",
       "  <tbody>\n",
       "    <tr>\n",
       "      <th>10831</th>\n",
       "      <td>189.369995</td>\n",
       "      <td>194.830002</td>\n",
       "    </tr>\n",
       "    <tr>\n",
       "      <th>10832</th>\n",
       "      <td>189.949997</td>\n",
       "      <td>194.679993</td>\n",
       "    </tr>\n",
       "    <tr>\n",
       "      <th>10833</th>\n",
       "      <td>191.240005</td>\n",
       "      <td>193.600006</td>\n",
       "    </tr>\n",
       "    <tr>\n",
       "      <th>10834</th>\n",
       "      <td>189.429993</td>\n",
       "      <td>193.050003</td>\n",
       "    </tr>\n",
       "    <tr>\n",
       "      <th>10835</th>\n",
       "      <td>193.419998</td>\n",
       "      <td>193.149994</td>\n",
       "    </tr>\n",
       "    <tr>\n",
       "      <th>10836</th>\n",
       "      <td>192.320007</td>\n",
       "      <td>193.580002</td>\n",
       "    </tr>\n",
       "    <tr>\n",
       "      <th>10837</th>\n",
       "      <td>194.270004</td>\n",
       "      <td>192.529999</td>\n",
       "    </tr>\n",
       "    <tr>\n",
       "      <th>10838</th>\n",
       "      <td>195.710007</td>\n",
       "      <td>185.639999</td>\n",
       "    </tr>\n",
       "    <tr>\n",
       "      <th>10839</th>\n",
       "      <td>193.179993</td>\n",
       "      <td>184.250000</td>\n",
       "    </tr>\n",
       "    <tr>\n",
       "      <th>10840</th>\n",
       "      <td>194.710007</td>\n",
       "      <td>181.910004</td>\n",
       "    </tr>\n",
       "  </tbody>\n",
       "</table>\n",
       "</div>"
      ],
      "text/plain": [
       "            Close  Close_after_n_days\n",
       "10831  189.369995          194.830002\n",
       "10832  189.949997          194.679993\n",
       "10833  191.240005          193.600006\n",
       "10834  189.429993          193.050003\n",
       "10835  193.419998          193.149994\n",
       "10836  192.320007          193.580002\n",
       "10837  194.270004          192.529999\n",
       "10838  195.710007          185.639999\n",
       "10839  193.179993          184.250000\n",
       "10840  194.710007          181.910004"
      ]
     },
     "execution_count": 17,
     "metadata": {},
     "output_type": "execute_result"
    }
   ],
   "source": [
    "df_features.toPandas().tail(10)"
   ]
  },
  {
   "cell_type": "code",
   "execution_count": 18,
   "metadata": {},
   "outputs": [
    {
     "name": "stdout",
     "output_type": "stream",
     "text": [
      "+---------------------+-------------------+\n",
      "|features             |Close_after_n_days |\n",
      "+---------------------+-------------------+\n",
      "|[0.1283479928970337] |0.1439729928970337 |\n",
      "|[0.12165199965238571]|0.13783499598503113|\n",
      "|[0.11272300034761429]|0.13504500687122345|\n",
      "|[0.11551299691200256]|0.14229899644851685|\n",
      "|[0.11886200308799744]|0.141183003783226  |\n",
      "|[0.12611599266529083]|0.13616099953651428|\n",
      "|[0.1322540044784546] |0.1367190033197403 |\n",
      "|[0.13783499598503113]|0.13950900733470917|\n",
      "|[0.14508900046348572]|0.13839299976825714|\n",
      "|[0.15848200023174286]|0.14676299691200256|\n",
      "|[0.16071400046348572]|0.14229899644851685|\n",
      "|[0.156808003783226]  |0.14508900046348572|\n",
      "|[0.1523440033197403] |0.14676299691200256|\n",
      "|[0.15401799976825714]|0.14620499312877655|\n",
      "|[0.15067000687122345]|0.1439729928970337 |\n",
      "|[0.1439729928970337] |0.14285700023174286|\n",
      "|[0.13783499598503113]|0.13839299976825714|\n",
      "|[0.13504500687122345]|0.1333709955215454 |\n",
      "|[0.14229899644851685]|0.12611599266529083|\n",
      "|[0.141183003783226]  |0.11886200308799744|\n",
      "+---------------------+-------------------+\n",
      "only showing top 20 rows\n",
      "\n"
     ]
    }
   ],
   "source": [
    "df_assembled.show(truncate=False)"
   ]
  },
  {
   "cell_type": "code",
   "execution_count": 19,
   "metadata": {},
   "outputs": [],
   "source": [
    "# Here, we're using a time-based split - 80% for training and 20% for testing\n",
    "train_count = int(df_assembled.count() * 0.8)\n",
    "df_train = df_assembled.limit(train_count)\n",
    "df_test = df_assembled.subtract(df_train)"
   ]
  },
  {
   "cell_type": "code",
   "execution_count": 20,
   "metadata": {},
   "outputs": [
    {
     "name": "stdout",
     "output_type": "stream",
     "text": [
      "+--------------------+-------------------+\n",
      "|            features| Close_after_n_days|\n",
      "+--------------------+-------------------+\n",
      "|[0.1283479928970337]| 0.1439729928970337|\n",
      "|[0.12165199965238...|0.13783499598503113|\n",
      "|[0.11272300034761...|0.13504500687122345|\n",
      "|[0.11551299691200...|0.14229899644851685|\n",
      "|[0.11886200308799...|  0.141183003783226|\n",
      "|[0.12611599266529...|0.13616099953651428|\n",
      "|[0.1322540044784546]| 0.1367190033197403|\n",
      "|[0.13783499598503...|0.13950900733470917|\n",
      "|[0.14508900046348...|0.13839299976825714|\n",
      "|[0.15848200023174...|0.14676299691200256|\n",
      "|[0.16071400046348...|0.14229899644851685|\n",
      "| [0.156808003783226]|0.14508900046348572|\n",
      "|[0.1523440033197403]|0.14676299691200256|\n",
      "|[0.15401799976825...|0.14620499312877655|\n",
      "|[0.15067000687122...| 0.1439729928970337|\n",
      "|[0.1439729928970337]|0.14285700023174286|\n",
      "|[0.13783499598503...|0.13839299976825714|\n",
      "|[0.13504500687122...| 0.1333709955215454|\n",
      "|[0.14229899644851...|0.12611599266529083|\n",
      "| [0.141183003783226]|0.11886200308799744|\n",
      "+--------------------+-------------------+\n",
      "only showing top 20 rows\n",
      "\n"
     ]
    }
   ],
   "source": [
    "df_train.show()"
   ]
  },
  {
   "cell_type": "code",
   "execution_count": 21,
   "metadata": {},
   "outputs": [
    {
     "data": {
      "text/plain": [
       "8672"
      ]
     },
     "execution_count": 21,
     "metadata": {},
     "output_type": "execute_result"
    }
   ],
   "source": [
    "df_train.count()"
   ]
  },
  {
   "cell_type": "code",
   "execution_count": 22,
   "metadata": {},
   "outputs": [
    {
     "name": "stdout",
     "output_type": "stream",
     "text": [
      "+--------------------+------------------+\n",
      "|            features|Close_after_n_days|\n",
      "+--------------------+------------------+\n",
      "| [32.17499923706055]|32.404998779296875|\n",
      "|[31.450000762939453]|  33.0099983215332|\n",
      "|[31.252500534057617]| 32.94499969482422|\n",
      "|[31.315000534057617]| 32.56999969482422|\n",
      "|[31.905000686645508]|  32.6349983215332|\n",
      "|[31.579999923706055]|  32.4900016784668|\n",
      "|[31.467500686645508]|32.529998779296875|\n",
      "|[31.502500534057617]| 32.34000015258789|\n",
      "| [32.23749923706055]|32.162498474121094|\n",
      "|[32.192501068115234]|31.950000762939453|\n",
      "| [32.54750061035156]|31.854999542236328|\n",
      "| [32.51750183105469]|32.220001220703125|\n",
      "| [32.51499938964844]|32.147499084472656|\n",
      "| [32.84749984741211]|31.792499542236328|\n",
      "|  [33.1349983215332]|31.729999542236328|\n",
      "|[32.404998779296875]|31.899999618530273|\n",
      "|  [33.0099983215332]|31.825000762939453|\n",
      "| [32.94499969482422]|31.969999313354492|\n",
      "| [32.56999969482422]|31.649999618530273|\n",
      "|  [32.6349983215332]| 31.90250015258789|\n",
      "+--------------------+------------------+\n",
      "only showing top 20 rows\n",
      "\n"
     ]
    }
   ],
   "source": [
    "df_test.show()"
   ]
  },
  {
   "cell_type": "code",
   "execution_count": 23,
   "metadata": {},
   "outputs": [
    {
     "data": {
      "text/plain": [
       "2169"
      ]
     },
     "execution_count": 23,
     "metadata": {},
     "output_type": "execute_result"
    }
   ],
   "source": [
    "df_test.count()"
   ]
  },
  {
   "cell_type": "markdown",
   "metadata": {},
   "source": [
    "## 3. Xây dựng mô hình GBT"
   ]
  },
  {
   "cell_type": "code",
   "execution_count": 24,
   "metadata": {},
   "outputs": [],
   "source": [
    "GBT = GBTRegressor (featuresCol=\"features\", labelCol=\"Close_after_n_days\", maxDepth=3, maxBins=32, stepSize=0.1, seed=42)"
   ]
  },
  {
   "cell_type": "code",
   "execution_count": 25,
   "metadata": {},
   "outputs": [],
   "source": [
    "model = GBT.fit(df_train)"
   ]
  },
  {
   "cell_type": "markdown",
   "metadata": {},
   "source": [
    "### 3.1 Kiểm tra tập test"
   ]
  },
  {
   "cell_type": "code",
   "execution_count": 26,
   "metadata": {},
   "outputs": [],
   "source": [
    "predic_test = model.transform(df_test)"
   ]
  },
  {
   "cell_type": "code",
   "execution_count": 27,
   "metadata": {},
   "outputs": [
    {
     "name": "stdout",
     "output_type": "stream",
     "text": [
      "+--------------------+------------------+------------------+\n",
      "|            features|Close_after_n_days|        prediction|\n",
      "+--------------------+------------------+------------------+\n",
      "| [32.17499923706055]|32.404998779296875|27.185335386554513|\n",
      "|[31.450000762939453]|  33.0099983215332|27.185335386554513|\n",
      "|[31.252500534057617]| 32.94499969482422|27.185335386554513|\n",
      "|[31.315000534057617]| 32.56999969482422|27.185335386554513|\n",
      "|[31.905000686645508]|  32.6349983215332|27.185335386554513|\n",
      "|[31.579999923706055]|  32.4900016784668|27.185335386554513|\n",
      "|[31.467500686645508]|32.529998779296875|27.185335386554513|\n",
      "|[31.502500534057617]| 32.34000015258789|27.185335386554513|\n",
      "| [32.23749923706055]|32.162498474121094|27.185335386554513|\n",
      "|[32.192501068115234]|31.950000762939453|27.185335386554513|\n",
      "| [32.54750061035156]|31.854999542236328|27.185335386554513|\n",
      "| [32.51750183105469]|32.220001220703125|27.185335386554513|\n",
      "| [32.51499938964844]|32.147499084472656|27.185335386554513|\n",
      "| [32.84749984741211]|31.792499542236328|27.185335386554513|\n",
      "|  [33.1349983215332]|31.729999542236328|27.185335386554513|\n",
      "|[32.404998779296875]|31.899999618530273|27.185335386554513|\n",
      "|  [33.0099983215332]|31.825000762939453|27.185335386554513|\n",
      "| [32.94499969482422]|31.969999313354492|27.185335386554513|\n",
      "| [32.56999969482422]|31.649999618530273|27.185335386554513|\n",
      "|  [32.6349983215332]| 31.90250015258789|27.185335386554513|\n",
      "+--------------------+------------------+------------------+\n",
      "only showing top 20 rows\n",
      "\n",
      "None\n"
     ]
    }
   ],
   "source": [
    "print(predic_test.show())"
   ]
  },
  {
   "cell_type": "code",
   "execution_count": 28,
   "metadata": {},
   "outputs": [
    {
     "name": "stdout",
     "output_type": "stream",
     "text": [
      "Root Mean Squared Error (RMSE) on test data = 81.74122744698323\n",
      "R2 on test data = -1.1175273752544457\n"
     ]
    }
   ],
   "source": [
    "evaluator_rmse = RegressionEvaluator(labelCol=\"Close_after_n_days\", predictionCol=\"prediction\", metricName=\"rmse\")\n",
    "rmse_test = evaluator_rmse.evaluate(predic_test)\n",
    "print(\"Root Mean Squared Error (RMSE) on test data =\", rmse_test)\n",
    "\n",
    "evaluator_rmse = RegressionEvaluator(labelCol=\"Close_after_n_days\", predictionCol=\"prediction\", metricName=\"r2\")\n",
    "r2_test = evaluator_rmse.evaluate(predic_test)\n",
    "print(\"R2 on test data =\", r2_test)"
   ]
  },
  {
   "cell_type": "code",
   "execution_count": 29,
   "metadata": {},
   "outputs": [
    {
     "name": "stdout",
     "output_type": "stream",
     "text": [
      "Mean Absolute Percentage Error (MAPE) on test data = 51.59037018356589\n"
     ]
    }
   ],
   "source": [
    "from pyspark.sql.functions import abs\n",
    "\n",
    "def calculate_mape(df, labelCol, predictionCol):\n",
    "    df = df.withColumn(\"absolute_error\", abs(df[labelCol] - df[predictionCol]))\n",
    "    df = df.withColumn(\"percentage_error\", df[\"absolute_error\"] / df[labelCol] * 100)\n",
    "    mape = df.select(\"percentage_error\").agg({\"percentage_error\": \"avg\"}).collect()[0][0]\n",
    "    return mape\n",
    "\n",
    "mape_test = calculate_mape(predic_test, \"Close_after_n_days\", \"prediction\")\n",
    "print(\"Mean Absolute Percentage Error (MAPE) on test data =\", mape_test)"
   ]
  },
  {
   "cell_type": "code",
   "execution_count": 30,
   "metadata": {},
   "outputs": [
    {
     "data": {
      "image/png": "[encoded data removed]",
      "text/plain": [
       "<Figure size 1200x600 with 1 Axes>"
      ]
     },
     "metadata": {},
     "output_type": "display_data"
    }
   ],
   "source": [
    "# Visualization\n",
    "# Plot the actual vs predicted values for adjusted closing prices\n",
    "preds = predic_test.select(\"Close_after_n_days\", \"prediction\").toPandas()\n",
    "plt.figure(figsize=(12, 6))\n",
    "plt.plot(preds[\"Close_after_n_days\"], label='Actual', color='blue')\n",
    "plt.plot(preds[\"prediction\"], label='Predicted', color='red', alpha=0.6)\n",
    "plt.title('Actual vs Predicted Adjusted Closing Prices on test data')\n",
    "plt.xlabel('Days')\n",
    "plt.ylabel('Closing Price')\n",
    "plt.legend()\n",
    "plt.show()"
   ]
  },
  {
   "cell_type": "markdown",
   "metadata": {},
   "source": [
    "### 3.2 Kiểm tra tập train"
   ]
  },
  {
   "cell_type": "code",
   "execution_count": 31,
   "metadata": {},
   "outputs": [],
   "source": [
    "predic_train = model.transform(df_train)"
   ]
  },
  {
   "cell_type": "code",
   "execution_count": 32,
   "metadata": {},
   "outputs": [
    {
     "name": "stdout",
     "output_type": "stream",
     "text": [
      "+--------------------+-------------------+-------------------+\n",
      "|            features| Close_after_n_days|         prediction|\n",
      "+--------------------+-------------------+-------------------+\n",
      "|[0.1283479928970337]| 0.1439729928970337|0.14655870513232008|\n",
      "|[0.12165199965238...|0.13783499598503113|0.14655870513232008|\n",
      "|[0.11272300034761...|0.13504500687122345| 0.1412595761322924|\n",
      "|[0.11551299691200...|0.14229899644851685| 0.1412595761322924|\n",
      "|[0.11886200308799...|  0.141183003783226|0.14655870513232008|\n",
      "|[0.12611599266529...|0.13616099953651428|0.14655870513232008|\n",
      "|[0.1322540044784546]| 0.1367190033197403|0.14655870513232008|\n",
      "|[0.13783499598503...|0.13950900733470917|0.15907071468106793|\n",
      "|[0.14508900046348...|0.13839299976825714|0.15907071468106793|\n",
      "|[0.15848200023174...|0.14676299691200256|0.17842182755629216|\n",
      "|[0.16071400046348...|0.14229899644851685|0.17842182755629216|\n",
      "| [0.156808003783226]|0.14508900046348572|0.17842182755629216|\n",
      "|[0.1523440033197403]|0.14676299691200256|0.17842182755629216|\n",
      "|[0.15401799976825...|0.14620499312877655|0.17842182755629216|\n",
      "|[0.15067000687122...| 0.1439729928970337|0.17842182755629216|\n",
      "|[0.1439729928970337]|0.14285700023174286|0.15907071468106793|\n",
      "|[0.13783499598503...|0.13839299976825714|0.15907071468106793|\n",
      "|[0.13504500687122...| 0.1333709955215454|0.15907071468106793|\n",
      "|[0.14229899644851...|0.12611599266529083|0.15907071468106793|\n",
      "| [0.141183003783226]|0.11886200308799744|0.15907071468106793|\n",
      "+--------------------+-------------------+-------------------+\n",
      "only showing top 20 rows\n",
      "\n"
     ]
    }
   ],
   "source": [
    "predic_train.show()"
   ]
  },
  {
   "cell_type": "code",
   "execution_count": 33,
   "metadata": {},
   "outputs": [
    {
     "name": "stdout",
     "output_type": "stream",
     "text": [
      "Root Mean Squared Error (RMSE) on train data = 0.851358228709828\n",
      "R2 on train data = 0.9838913372266715\n"
     ]
    }
   ],
   "source": [
    "evaluator_rmse = RegressionEvaluator(labelCol=\"Close_after_n_days\", predictionCol=\"prediction\", metricName=\"rmse\")\n",
    "rmse_train = evaluator_rmse.evaluate(predic_train)\n",
    "print(\"Root Mean Squared Error (RMSE) on train data =\", rmse_train)\n",
    "\n",
    "evaluator_rmse = RegressionEvaluator(labelCol=\"Close_after_n_days\", predictionCol=\"prediction\", metricName=\"r2\")\n",
    "r2_train = evaluator_rmse.evaluate(predic_train)\n",
    "print(\"R2 on train data =\", r2_train)"
   ]
  },
  {
   "cell_type": "code",
   "execution_count": 34,
   "metadata": {},
   "outputs": [
    {
     "name": "stdout",
     "output_type": "stream",
     "text": [
      "Mean Absolute Percentage Error (MAPE) on train data = 15.0087096737951\n"
     ]
    }
   ],
   "source": [
    "from pyspark.sql.functions import abs\n",
    "\n",
    "def calculate_mape(df, labelCol, predictionCol):\n",
    "    df = df.withColumn(\"absolute_error\", abs(df[labelCol] - df[predictionCol]))\n",
    "    df = df.withColumn(\"percentage_error\", df[\"absolute_error\"] / df[labelCol] * 100)\n",
    "    mape = df.select(\"percentage_error\").agg({\"percentage_error\": \"avg\"}).collect()[0][0]\n",
    "    return mape\n",
    "\n",
    "mape_train = calculate_mape(predic_train, \"Close_after_n_days\", \"prediction\")\n",
    "print(\"Mean Absolute Percentage Error (MAPE) on train data =\", mape_train)"
   ]
  },
  {
   "cell_type": "code",
   "execution_count": 35,
   "metadata": {},
   "outputs": [
    {
     "data": {
      "image/png": "[encoded data removed]",
      "text/plain": [
       "<Figure size 1200x600 with 1 Axes>"
      ]
     },
     "metadata": {},
     "output_type": "display_data"
    }
   ],
   "source": [
    "# Visualization\n",
    "# Plot the actual vs predicted values for adjusted closing prices\n",
    "preds = predic_train.select(\"Close_after_n_days\", \"prediction\").toPandas()\n",
    "plt.figure(figsize=(12, 6))\n",
    "plt.plot(preds[\"Close_after_n_days\"], label='Actual', color='blue')\n",
    "plt.plot(preds[\"prediction\"], label='Predicted', color='red', alpha=0.6)\n",
    "plt.title('Actual vs Predicted Adjusted Closing Prices on train data')\n",
    "plt.xlabel('Days')\n",
    "plt.ylabel('Closing Price')\n",
    "plt.legend()\n",
    "plt.show()"
   ]
  }
 ],
 "metadata": {
  "kernelspec": {
   "display_name": "Python 3",
   "language": "python",
   "name": "python3"
  },
  "language_info": {
   "codemirror_mode": {
    "name": "ipython",
    "version": 3
   },
   "file_extension": ".py",
   "mimetype": "text/x-python",
   "name": "python",
   "nbconvert_exporter": "python",
   "pygments_lexer": "ipython3",
   "version": "3.11.5"
  }
 },
 "nbformat": 4,
 "nbformat_minor": 2
}
