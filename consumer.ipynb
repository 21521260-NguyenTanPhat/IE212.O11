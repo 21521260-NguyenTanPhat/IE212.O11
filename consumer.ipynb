{
 "cells": [
  {
   "cell_type": "code",
   "execution_count": 1,
   "metadata": {},
   "outputs": [
    {
     "data": {
      "text/html": [
       "\n",
       "            <div>\n",
       "                <p><b>SparkSession - in-memory</b></p>\n",
       "                \n",
       "        <div>\n",
       "            <p><b>SparkContext</b></p>\n",
       "\n",
       "            <p><a href=\"http://192.168.23.1:4040\">Spark UI</a></p>\n",
       "\n",
       "            <dl>\n",
       "              <dt>Version</dt>\n",
       "                <dd><code>v3.5.0</code></dd>\n",
       "              <dt>Master</dt>\n",
       "                <dd><code>local</code></dd>\n",
       "              <dt>AppName</dt>\n",
       "                <dd><code>kafka-example</code></dd>\n",
       "            </dl>\n",
       "        </div>\n",
       "        \n",
       "            </div>\n",
       "        "
      ],
      "text/plain": [
       "<pyspark.sql.session.SparkSession at 0x2ad215c7cd0>"
      ]
     },
     "execution_count": 1,
     "metadata": {},
     "output_type": "execute_result"
    }
   ],
   "source": [
    "import findspark\n",
    "findspark.init()\n",
    "import pyspark\n",
    "from pyspark.sql import SparkSession\n",
    "from pyspark.sql.functions import from_json\n",
    "\n",
    "scala_version = '2.12'  # your scala version\n",
    "spark_version = '3.5.0' # your spark version\n",
    "packages = [\n",
    "    f'org.apache.spark:spark-sql-kafka-0-10_{scala_version}:{spark_version}',\n",
    "    'org.apache.kafka:kafka-clients:2.8.0' #your kafka version\n",
    "]\n",
    "spark = SparkSession.builder.master(\"local\").appName(\"kafka-example\").config(\"spark.jars.packages\", \",\".join(packages)).getOrCreate()\n",
    "spark"
   ]
  },
  {
   "cell_type": "code",
   "execution_count": 2,
   "metadata": {},
   "outputs": [
    {
     "data": {
      "text/plain": [
       "['org.apache.spark:spark-sql-kafka-0-10_2.12:3.5.0',\n",
       " 'org.apache.kafka:kafka-clients:2.8.0']"
      ]
     },
     "execution_count": 2,
     "metadata": {},
     "output_type": "execute_result"
    }
   ],
   "source": [
    "packages"
   ]
  },
  {
   "cell_type": "code",
   "execution_count": 3,
   "metadata": {},
   "outputs": [],
   "source": [
    "topic_name = 'text1'\n",
    "kafka_server = 'localhost:9092'\n",
    "\n",
    "kafkaDf = spark.read.format(\"kafka\").option(\"kafka.bootstrap.servers\", kafka_server).option(\"subscribe\", topic_name).option(\"startingOffsets\", \"earliest\").load()"
   ]
  },
  {
   "cell_type": "code",
   "execution_count": 4,
   "metadata": {},
   "outputs": [
    {
     "name": "stdout",
     "output_type": "stream",
     "text": [
      "+----+--------------------+-----+---------+------+--------------------+-------------+\n",
      "| key|               value|topic|partition|offset|           timestamp|timestampType|\n",
      "+----+--------------------+-----+---------+------+--------------------+-------------+\n",
      "|NULL|[31 39 39 39 2D 3...|text1|        0|     0|2024-01-20 14:47:...|            0|\n",
      "|NULL|[31 39 39 39 2D 3...|text1|        0|     1|2024-01-20 14:47:...|            0|\n",
      "|NULL|[31 39 39 39 2D 3...|text1|        0|     2|2024-01-20 14:47:...|            0|\n",
      "|NULL|[31 39 39 39 2D 3...|text1|        0|     3|2024-01-20 14:47:...|            0|\n",
      "|NULL|[31 39 39 39 2D 3...|text1|        0|     4|2024-01-20 14:47:...|            0|\n",
      "|NULL|[31 39 39 39 2D 3...|text1|        0|     5|2024-01-20 14:47:...|            0|\n",
      "|NULL|[31 39 39 39 2D 3...|text1|        0|     6|2024-01-20 14:47:...|            0|\n",
      "|NULL|[31 39 39 39 2D 3...|text1|        0|     7|2024-01-20 14:47:...|            0|\n",
      "|NULL|[31 39 39 39 2D 3...|text1|        0|     8|2024-01-20 14:47:...|            0|\n",
      "|NULL|[31 39 39 39 2D 3...|text1|        0|     9|2024-01-20 14:47:...|            0|\n",
      "|NULL|[31 39 39 39 2D 3...|text1|        0|    10|2024-01-20 14:47:...|            0|\n",
      "|NULL|[31 39 39 39 2D 3...|text1|        0|    11|2024-01-20 14:47:...|            0|\n",
      "|NULL|[31 39 39 39 2D 3...|text1|        0|    12|2024-01-20 14:47:...|            0|\n",
      "|NULL|[31 39 39 39 2D 3...|text1|        0|    13|2024-01-20 14:47:...|            0|\n",
      "|NULL|[31 39 39 39 2D 3...|text1|        0|    14|2024-01-20 14:47:...|            0|\n",
      "|NULL|[31 39 39 39 2D 3...|text1|        0|    15|2024-01-20 14:47:...|            0|\n",
      "|NULL|[31 39 39 39 2D 3...|text1|        0|    16|2024-01-20 14:47:...|            0|\n",
      "|NULL|[31 39 39 39 2D 3...|text1|        0|    17|2024-01-20 14:47:...|            0|\n",
      "|NULL|[31 39 39 39 2D 3...|text1|        0|    18|2024-01-20 14:47:...|            0|\n",
      "|NULL|[31 39 39 39 2D 3...|text1|        0|    19|2024-01-20 14:47:...|            0|\n",
      "+----+--------------------+-----+---------+------+--------------------+-------------+\n",
      "only showing top 20 rows\n",
      "\n"
     ]
    }
   ],
   "source": [
    "kafkaDf.show()"
   ]
  },
  {
   "cell_type": "code",
   "execution_count": 14,
   "metadata": {},
   "outputs": [
    {
     "ename": "PySparkTypeError",
     "evalue": "[NOT_COLUMN] Argument `col` should be a Column, got date.",
     "output_type": "error",
     "traceback": [
      "\u001b[1;31m---------------------------------------------------------------------------\u001b[0m",
      "\u001b[1;31mPySparkTypeError\u001b[0m                          Traceback (most recent call last)",
      "Cell \u001b[1;32mIn[14], line 26\u001b[0m\n\u001b[0;32m     17\u001b[0m     df1 \u001b[38;5;241m=\u001b[39m df\u001b[38;5;241m.\u001b[39malias(\u001b[38;5;124m\"\u001b[39m\u001b[38;5;124mcopied\u001b[39m\u001b[38;5;124m\"\u001b[39m)\n\u001b[0;32m     18\u001b[0m     df1 \u001b[38;5;241m=\u001b[39m df1 \\\n\u001b[0;32m     19\u001b[0m         \u001b[38;5;241m.\u001b[39mwithColumn(\u001b[38;5;124m\"\u001b[39m\u001b[38;5;124mDate\u001b[39m\u001b[38;5;124m\"\u001b[39m, col(\u001b[38;5;124m\"\u001b[39m\u001b[38;5;124mDate\u001b[39m\u001b[38;5;124m\"\u001b[39m)\u001b[38;5;241m.\u001b[39mcast(StringType())) \\\n\u001b[0;32m     20\u001b[0m         \u001b[38;5;241m.\u001b[39mwithColumn(\u001b[38;5;124m\"\u001b[39m\u001b[38;5;124mOpen\u001b[39m\u001b[38;5;124m\"\u001b[39m, col(\u001b[38;5;124m\"\u001b[39m\u001b[38;5;124mOpen\u001b[39m\u001b[38;5;124m\"\u001b[39m)\u001b[38;5;241m.\u001b[39mcast(DoubleType())) \\\n\u001b[1;32m   (...)\u001b[0m\n\u001b[0;32m     24\u001b[0m         \u001b[38;5;241m.\u001b[39mwithColumn(\u001b[38;5;124m\"\u001b[39m\u001b[38;5;124mAdj_close\u001b[39m\u001b[38;5;124m\"\u001b[39m, col(\u001b[38;5;124m\"\u001b[39m\u001b[38;5;124mAdj_close\u001b[39m\u001b[38;5;124m\"\u001b[39m)\u001b[38;5;241m.\u001b[39mcast(DoubleType())) \\\n\u001b[0;32m     25\u001b[0m         \u001b[38;5;241m.\u001b[39mwithColumn(\u001b[38;5;124m\"\u001b[39m\u001b[38;5;124mVolume\u001b[39m\u001b[38;5;124m\"\u001b[39m, col(\u001b[38;5;124m\"\u001b[39m\u001b[38;5;124mVolume\u001b[39m\u001b[38;5;124m\"\u001b[39m)\u001b[38;5;241m.\u001b[39mcast(IntegerType()))\n\u001b[1;32m---> 26\u001b[0m     df1 \u001b[38;5;241m=\u001b[39m \u001b[43mdf1\u001b[49m\u001b[38;5;241;43m.\u001b[39;49m\u001b[43mwithColumn\u001b[49m\u001b[43m(\u001b[49m\u001b[38;5;124;43m\"\u001b[39;49m\u001b[38;5;124;43mCurrent_date\u001b[39;49m\u001b[38;5;124;43m\"\u001b[39;49m\u001b[43m,\u001b[49m\u001b[43m \u001b[49m\u001b[43mcur\u001b[49m\u001b[43m)\u001b[49m\n\u001b[0;32m     28\u001b[0m \u001b[38;5;28;01mexcept\u001b[39;00m \u001b[38;5;167;01mKeyboardInterrupt\u001b[39;00m:\n\u001b[0;32m     29\u001b[0m     \u001b[38;5;28mprint\u001b[39m(\u001b[38;5;124m\"\u001b[39m\u001b[38;5;124mbreak\u001b[39m\u001b[38;5;124m\"\u001b[39m)\n",
      "File \u001b[1;32mD:\\Spark\\spark-3.5.0-bin-hadoop3\\python\\pyspark\\sql\\dataframe.py:5166\u001b[0m, in \u001b[0;36mDataFrame.withColumn\u001b[1;34m(self, colName, col)\u001b[0m\n\u001b[0;32m   5123\u001b[0m \u001b[38;5;250m\u001b[39m\u001b[38;5;124;03m\"\"\"\u001b[39;00m\n\u001b[0;32m   5124\u001b[0m \u001b[38;5;124;03mReturns a new :class:`DataFrame` by adding a column or replacing the\u001b[39;00m\n\u001b[0;32m   5125\u001b[0m \u001b[38;5;124;03mexisting column that has the same name.\u001b[39;00m\n\u001b[1;32m   (...)\u001b[0m\n\u001b[0;32m   5163\u001b[0m \u001b[38;5;124;03m+---+-----+----+\u001b[39;00m\n\u001b[0;32m   5164\u001b[0m \u001b[38;5;124;03m\"\"\"\u001b[39;00m\n\u001b[0;32m   5165\u001b[0m \u001b[38;5;28;01mif\u001b[39;00m \u001b[38;5;129;01mnot\u001b[39;00m \u001b[38;5;28misinstance\u001b[39m(col, Column):\n\u001b[1;32m-> 5166\u001b[0m     \u001b[38;5;28;01mraise\u001b[39;00m PySparkTypeError(\n\u001b[0;32m   5167\u001b[0m         error_class\u001b[38;5;241m=\u001b[39m\u001b[38;5;124m\"\u001b[39m\u001b[38;5;124mNOT_COLUMN\u001b[39m\u001b[38;5;124m\"\u001b[39m,\n\u001b[0;32m   5168\u001b[0m         message_parameters\u001b[38;5;241m=\u001b[39m{\u001b[38;5;124m\"\u001b[39m\u001b[38;5;124marg_name\u001b[39m\u001b[38;5;124m\"\u001b[39m: \u001b[38;5;124m\"\u001b[39m\u001b[38;5;124mcol\u001b[39m\u001b[38;5;124m\"\u001b[39m, \u001b[38;5;124m\"\u001b[39m\u001b[38;5;124marg_type\u001b[39m\u001b[38;5;124m\"\u001b[39m: \u001b[38;5;28mtype\u001b[39m(col)\u001b[38;5;241m.\u001b[39m\u001b[38;5;18m__name__\u001b[39m},\n\u001b[0;32m   5169\u001b[0m     )\n\u001b[0;32m   5170\u001b[0m \u001b[38;5;28;01mreturn\u001b[39;00m DataFrame(\u001b[38;5;28mself\u001b[39m\u001b[38;5;241m.\u001b[39m_jdf\u001b[38;5;241m.\u001b[39mwithColumn(colName, col\u001b[38;5;241m.\u001b[39m_jc), \u001b[38;5;28mself\u001b[39m\u001b[38;5;241m.\u001b[39msparkSession)\n",
      "\u001b[1;31mPySparkTypeError\u001b[0m: [NOT_COLUMN] Argument `col` should be a Column, got date."
     ]
    }
   ],
   "source": [
    "from time import sleep\n",
    "from IPython.display import display, clear_output\n",
    "from pyspark.sql import functions as F\n",
    "from pyspark.sql.functions import from_json, split, current_date, year, col, when\n",
    "from pyspark.sql.types import StructType, StructField, StringType, DoubleType, IntegerType\n",
    "\n",
    "for x in range(0, 2000):\n",
    "    try:\n",
    "        df = kafkaDf.selectExpr(\"CAST(value AS STRING)\").select(split(\"value\", \",\").alias(\"csv_values\")) \\\n",
    "                        .selectExpr(\"csv_values[0] as Date\", \"csv_values[1] as Open\", \\\n",
    "                                    \"csv_values[2] as High\", \"csv_values[3] as Low\", \\\n",
    "                                    \"csv_values[4] as Close\", \"csv_values[5] as Adj_close\", \\\n",
    "                                    \"csv_values[6] as Volume\")\n",
    "\n",
    "        df1 = df.alias(\"copied\")\n",
    "        df1 = df1 \\\n",
    "            .withColumn(\"Date\", col(\"Date\").cast(StringType())) \\\n",
    "            .withColumn(\"Open\", col(\"Open\").cast(DoubleType())) \\\n",
    "            .withColumn(\"High\", col(\"High\").cast(DoubleType())) \\\n",
    "            .withColumn(\"Low\", col(\"Low\").cast(DoubleType())) \\\n",
    "            .withColumn(\"Close\", col(\"Close\").cast(DoubleType())) \\\n",
    "            .withColumn(\"Adj_close\", col(\"Adj_close\").cast(DoubleType())) \\\n",
    "            .withColumn(\"Volume\", col(\"Volume\").cast(IntegerType()))\n",
    "        df1 = df1.withColumn(\"Current_date\", current_date())\n",
    "\n",
    "    except KeyboardInterrupt:\n",
    "        print(\"break\")\n",
    "        break\n",
    "print(\"Live view ended...\")"
   ]
  },
  {
   "cell_type": "code",
   "execution_count": 13,
   "metadata": {},
   "outputs": [
    {
     "name": "stdout",
     "output_type": "stream",
     "text": [
      "+----------+-------------------+-------------------+-------------------+-------------------+-------------------+---------+\n",
      "|      Date|               Open|               High|                Low|              Close|          Adj_close|   Volume|\n",
      "+----------+-------------------+-------------------+-------------------+-------------------+-------------------+---------+\n",
      "|1999-01-22|             0.4375| 0.4882810115814209|0.38802099227905273| 0.4101560115814209|  0.376254677772522|271468800|\n",
      "|1999-01-25|0.44270798563957214|0.45833298563957214| 0.4101560115814209|           0.453125| 0.4156721234321594| 51048000|\n",
      "|1999-01-26|0.45833298563957214|0.46744799613952637|0.41145798563957214| 0.4179689884185791| 0.3834218978881836| 34320000|\n",
      "|1999-01-27|0.41927099227905273| 0.4296880066394806|0.39583298563957214|0.41666701436042786|0.38222751021385193| 24436800|\n",
      "|1999-01-28|0.41666701436042786|0.41927099227905273| 0.4127599895000458| 0.4153650104999542| 0.3810330629348755| 22752000|\n",
      "|1999-01-29| 0.4153650104999542|0.41666701436042786|0.39583298563957214|0.39583298563957214| 0.3631155490875244| 24403200|\n",
      "|1999-02-01|0.39583298563957214|            0.40625|0.39583298563957214|0.40364599227905273| 0.3702827990055084| 15470400|\n",
      "|1999-02-02|0.39583298563957214|            0.40625|0.36067700386047363|0.37239599227905273| 0.3416156470775604| 26409600|\n",
      "|1999-02-03| 0.3671880066394806|0.38541701436042786|0.36458298563957214|0.38020798563957214| 0.3487819731235504|  7512000|\n",
      "|1999-02-04|0.38541701436042786|0.41145798563957214|0.38020798563957214|0.40104201436042786|0.36789393424987793| 18192000|\n",
      "|1999-02-05|0.40755200386047363|0.41666701436042786| 0.3971349895000458| 0.4127599895000458| 0.3786434233188629| 13684800|\n",
      "|1999-02-08| 0.4153650104999542|0.41666701436042786| 0.3984380066394806| 0.3984380066394806|0.36550524830818176| 15408000|\n",
      "|1999-02-09|            0.40625|0.40885400772094727|0.37760400772094727| 0.3828130066394806|  0.351171612739563|  8697600|\n",
      "|1999-02-10| 0.3828130066394806|0.39322900772094727|0.37239599227905273| 0.3789060115814209| 0.3475876450538635| 14822400|\n",
      "|1999-02-11|0.38020798563957214|0.42708298563957214|0.38020798563957214|0.41145798563957214|0.37744903564453125| 13224000|\n",
      "|1999-02-12|0.41666701436042786|             0.4375|0.41666701436042786|0.43489599227905273| 0.3989497721195221| 10972800|\n",
      "|1999-02-16|0.44270798563957214| 0.4609380066394806|0.39322900772094727|             0.4375| 0.4013385474681854| 21100800|\n",
      "|1999-02-17|0.42708298563957214|0.43229201436042786|            0.40625| 0.4140630066394806| 0.3798387050628662|  6772800|\n",
      "|1999-02-18|0.42708298563957214|0.43229201436042786|0.40885400772094727|0.42057299613952637| 0.3858105540275574|  7070400|\n",
      "|1999-02-19|0.41666701436042786|0.44270798563957214|0.41145798563957214|0.43489599227905273| 0.3989497721195221|  7536000|\n",
      "+----------+-------------------+-------------------+-------------------+-------------------+-------------------+---------+\n",
      "only showing top 20 rows\n",
      "\n"
     ]
    }
   ],
   "source": [
    "df1.show()"
   ]
  },
  {
   "cell_type": "code",
   "execution_count": 11,
   "metadata": {},
   "outputs": [
    {
     "name": "stdout",
     "output_type": "stream",
     "text": [
      "2024-01-20\n"
     ]
    }
   ],
   "source": [
    "import datetime\n",
    "\n",
    "cur = datetime.date.today()\n",
    "print(cur)\n"
   ]
  }
 ],
 "metadata": {
  "kernelspec": {
   "display_name": "Python 3",
   "language": "python",
   "name": "python3"
  },
  "language_info": {
   "codemirror_mode": {
    "name": "ipython",
    "version": 3
   },
   "file_extension": ".py",
   "mimetype": "text/x-python",
   "name": "python",
   "nbconvert_exporter": "python",
   "pygments_lexer": "ipython3",
   "version": "3.10.6"
  }
 },
 "nbformat": 4,
 "nbformat_minor": 2
}
